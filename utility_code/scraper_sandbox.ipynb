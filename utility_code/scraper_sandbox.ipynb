{
 "cells": [
  {
   "cell_type": "code",
   "execution_count": 2,
   "metadata": {},
   "outputs": [],
   "source": [
    "from abc import ABC, abstractmethod\n",
    "\n",
    "import shutil\n",
    "import requests\n",
    "from bs4 import BeautifulSoup\n",
    "from lxml import etree\n",
    "import pandas as pd\n",
    "import re\n",
    "import sys\n",
    "import json\n",
    "\n",
    "import random\n",
    "import time\n",
    "import threading\n",
    "import concurrent.futures\n",
    "\n",
    "\n"
   ]
  },
  {
   "cell_type": "code",
   "execution_count": 3,
   "metadata": {},
   "outputs": [],
   "source": [
    "# a = {1:{2:3}}\n",
    "# b = {2:{3:4}}\n",
    "# a_keys = list(a.keys())\n",
    "# b_keys = list(b.keys())\n",
    "\n",
    "def merge(a, b):\n",
    "    merged = {}\n",
    "    if len(a) > 0 and len(b) > 0:\n",
    "        a_keys = list(a.keys())\n",
    "        b_keys = list(b.keys())\n",
    "        # print(a_keys[0], b_keys[0])\n",
    "        if a_keys[0] == b_keys[0]:# if b_keys[0] in a_keys - and modify rest of routine accordingly\n",
    "            print(True)\n",
    "            # a[a_keys[0]].update(b[b_keys[0]])\n",
    "            # merged = {a_keys[0]:{**a[a_keys[0]],**b[b_keys[0]]}}\n",
    "            #and call the function again\n",
    "            merged = {a_keys[0]:merge(a[a_keys[0]],b[b_keys[0]])}\n",
    "\n",
    "        else:\n",
    "            merged = a.copy()\n",
    "            merged.update(b)\n",
    "\n",
    "    else:\n",
    "        merged = a.copy()\n",
    "        merged.update(b)\n",
    "    \n",
    "    return merged\n",
    "\n",
    "# print(merge(a,b))"
   ]
  },
  {
   "cell_type": "code",
   "execution_count": 65,
   "metadata": {},
   "outputs": [],
   "source": [
    "content_dict = {'opening': '\\n\\nJosip Stanišić (Croatian pronunciation:\\xa0[jǒsip stǎniʃitɕ]; born 2 April 2000) is a Croatian professional footballer who plays as a defender for Bundesliga club Bayern Munich and the Croatia national team. Mainly a right-back, he can also play in the centre-back position.\\n',\n",
    " ('Club career',): \"Stanišić already played in the youth teams for the then second division TSV 1860 Munich and stayed there until the summer of 2015. As a 15-year-old, the change took place in front of the gates of the state capital in the U16s of the then sixth division SC Fürstenfeldbruck.[3] With the club's younger B-Juniors, he was one of the top performers from the start and, as the second-best goalscorer in his team, contributed to the fact that the Bruckers were one of the two top teams in the B-Junior District League alongside 1. FC Garmisch-Partenkirchen. Already in May 2016, just turned 16, he was pulled up to the U17, in which he was also one of the top performers and with two goals in the remaining eight games of the season contributed to the U17 of SC Fürstenfeldbruck being promoted from the regional league to the state league, in the junior B division, the third highest division behind the Bundesliga and Bayernliga. The Croatian also had a regular place in the team in the regional league, which just missed the Bayern league at the end of the season. Stanisic was no longer there at this point, however, as FC Bayern Munich had noticed him in the meantime and signed him for their U17s in January 2017. Hardly in Munich, Stanišić suffered an ankle fracture in preparation for the second half of the season and was out for the rest of the season.[4] So he missed winning the German B-Junior Championship.[5]\\n\\nIn the summer of 2018, Stanišić played part of the season preparation with the professional team of FC Bayern and was also used in two games in Klagenfurt and Philadelphia.[6] However, Stanišić continued to play everyday life with the A-Juniors and was the new team captain there in his second season. In January he had to undergo a groin operation and was absent for several weeks. In that season, too, the team missed the final round of the German championship, with fourth place even quite clearly, and the two cup competitions again ended early.\\n\\nStanišić made his professional debut for Bayern Munich II in the 3. Liga on 26 July 2019, coming on as a substitute at half-time for Angelo Mayer in the home match against KFC Uerdingen, which finished as a 2–1 win.[7]\\n\\nHe made his Bundesliga debut for Bayern Munich in a 1–1 draw with Union Berlin on 10 April 2021, being named in the starting lineup as a left back.[8] On 1 July 2021, Stanišić signed a professional contract with Bayern until 2023.[9] After impressing Bayern coach Julian Nagelsmann during the pre-season, Stanišić remained with the senior team, despite the original plan to be sent on loan to Heidenheim.[10][11][12][13][14] He was named in the starting lineup as a right back on 13 August 2021, the first day of Bundesliga, as Bayern drew 1–1 with Borussia Mönchengladbach.[15][13] Four days later, he was named in the starting lineup once again, as Bayern defeated Borussia Dortmund 3–1 to win the DFL-Supercup.[16][17][13] On 14 September, Stanišić made his Champions League debut in a 3–0 victory over Barcelona, coming off the bench for Niklas Süle in the 82nd minute.[18][19] On 15 October 2021, Stanišić extended his contract with Bayern until 2025.[20]\\n\",\n",
    " ('International career',): 'Stanišić holds both German and Croatian citizenships.[21] Despite previously playing for Germany U19,[22][23] Stanišić was called up to the Croatia U21 team by Igor Bišćan on 23 August 2021 for the upcoming UEFA Under-21 Euro 2023 qualifiers against Azerbaijan and Finland.[24] However, he failed to make his debut due to an injury.[25] Soon after, on 20 September, Stanišić was called up to the senior Croatia team by Zlatko Dalić for the upcoming 2022 FIFA World Cup qualifiers against Cyprus and Slovakia.[26] He made his debut on 8 October in a 3–0 victory over the former opponent, being named in the starting lineup.[27]\\n',\n",
    " ('Personal life',): 'Stanišić was born in Munich to Croat parents. His father Damir hails from Malino, and his mother Sandra hails from Oriovac.[28][1][29]\\n',\n",
    " ('Honours',): 'Bayern Munich\\n\\nBayern Munich II\\n'}"
   ]
  },
  {
   "cell_type": "code",
   "execution_count": 94,
   "metadata": {},
   "outputs": [
    {
     "name": "stdout",
     "output_type": "stream",
     "text": [
      "['opening', ('Club career',), ('International career',), ('Personal life',), ('Honours',)]\n",
      "before {'Honours': 'Bayern Munich\\n\\nBayern Munich II\\n'}\n",
      "{'Honours': 'Bayern Munich\\n\\nBayern Munich II\\n', 'opening': '\\n\\nJosip Stanišić (Croatian pronunciation:\\xa0[jǒsip stǎniʃitɕ]; born 2 April 2000) is a Croatian professional footballer who plays as a defender for Bundesliga club Bayern Munich and the Croatia national team. Mainly a right-back, he can also play in the centre-back position.\\n', 'Club career': \"Stanišić already played in the youth teams for the then second division TSV 1860 Munich and stayed there until the summer of 2015. As a 15-year-old, the change took place in front of the gates of the state capital in the U16s of the then sixth division SC Fürstenfeldbruck.[3] With the club's younger B-Juniors, he was one of the top performers from the start and, as the second-best goalscorer in his team, contributed to the fact that the Bruckers were one of the two top teams in the B-Junior District League alongside 1. FC Garmisch-Partenkirchen. Already in May 2016, just turned 16, he was pulled up to the U17, in which he was also one of the top performers and with two goals in the remaining eight games of the season contributed to the U17 of SC Fürstenfeldbruck being promoted from the regional league to the state league, in the junior B division, the third highest division behind the Bundesliga and Bayernliga. The Croatian also had a regular place in the team in the regional league, which just missed the Bayern league at the end of the season. Stanisic was no longer there at this point, however, as FC Bayern Munich had noticed him in the meantime and signed him for their U17s in January 2017. Hardly in Munich, Stanišić suffered an ankle fracture in preparation for the second half of the season and was out for the rest of the season.[4] So he missed winning the German B-Junior Championship.[5]\\n\\nIn the summer of 2018, Stanišić played part of the season preparation with the professional team of FC Bayern and was also used in two games in Klagenfurt and Philadelphia.[6] However, Stanišić continued to play everyday life with the A-Juniors and was the new team captain there in his second season. In January he had to undergo a groin operation and was absent for several weeks. In that season, too, the team missed the final round of the German championship, with fourth place even quite clearly, and the two cup competitions again ended early.\\n\\nStanišić made his professional debut for Bayern Munich II in the 3. Liga on 26 July 2019, coming on as a substitute at half-time for Angelo Mayer in the home match against KFC Uerdingen, which finished as a 2–1 win.[7]\\n\\nHe made his Bundesliga debut for Bayern Munich in a 1–1 draw with Union Berlin on 10 April 2021, being named in the starting lineup as a left back.[8] On 1 July 2021, Stanišić signed a professional contract with Bayern until 2023.[9] After impressing Bayern coach Julian Nagelsmann during the pre-season, Stanišić remained with the senior team, despite the original plan to be sent on loan to Heidenheim.[10][11][12][13][14] He was named in the starting lineup as a right back on 13 August 2021, the first day of Bundesliga, as Bayern drew 1–1 with Borussia Mönchengladbach.[15][13] Four days later, he was named in the starting lineup once again, as Bayern defeated Borussia Dortmund 3–1 to win the DFL-Supercup.[16][17][13] On 14 September, Stanišić made his Champions League debut in a 3–0 victory over Barcelona, coming off the bench for Niklas Süle in the 82nd minute.[18][19] On 15 October 2021, Stanišić extended his contract with Bayern until 2025.[20]\\n\", 'International career': 'Stanišić holds both German and Croatian citizenships.[21] Despite previously playing for Germany U19,[22][23] Stanišić was called up to the Croatia U21 team by Igor Bišćan on 23 August 2021 for the upcoming UEFA Under-21 Euro 2023 qualifiers against Azerbaijan and Finland.[24] However, he failed to make his debut due to an injury.[25] Soon after, on 20 September, Stanišić was called up to the senior Croatia team by Zlatko Dalić for the upcoming 2022 FIFA World Cup qualifiers against Cyprus and Slovakia.[26] He made his debut on 8 October in a 3–0 victory over the former opponent, being named in the starting lineup.[27]\\n', 'Personal life': 'Stanišić was born in Munich to Croat parents. His father Damir hails from Malino, and his mother Sandra hails from Oriovac.[28][1][29]\\n'}\n"
     ]
    }
   ],
   "source": [
    "# k1 = ('International career', '2016–17: Third Copa América final, retirement, and return', 'Return')\n",
    "# v1 = \"Just a week after Messi announced his international retirement, Argentine newspaper La Nación reported that he was reconsidering playing for Argentina at the 2018 FIFA World Cup qualifiers in September.[409] On 12 August, it was confirmed that Messi had reversed his decision to retire from international football, and he was included in the squad for the national team's upcoming 2018 World Cup qualifiers.[410] On 1 September, in his first game back, he scored in a 1–0 home win over Uruguay in a 2018 World Cup qualifier.[411]\\n\\nOn 28 March 2017, Messi was suspended for four international games for insulting an assistant referee in a game against Chile on 23 March 2017. He was also fined CHF 10,000.[412][413] On 5 May, Messi's four match ban as well as his 10,000 CHF fine was lifted by FIFA after Argentina Football Association appealed against his suspension, which meant he could now play Argentina's remaining World Cup Qualifiers.[414] Argentina's place in the 2018 World Cup was in jeopardy going into their final qualifying match as they were sixth in their group, outside the five possible CONMEBOL World Cup qualifying spots, meaning they risked failing to qualify for the World Cup for the first time since 1970. On 10 October, Messi led his country to World Cup qualification in scoring a hat-trick as Argentina came from behind to defeat Ecuador 3–1 away; Argentina had not defeated Ecuador in Quito since 2001.[415] Messi's three goals saw him become the joint all-time leading scorer in CONMEBOL World Cup qualifiers with 21 goals, alongside Uruguay's Luis Suárez, overtaking the previous record which was held by compatriot Hernán Crespo.[415]\\n\"\n",
    "\n",
    "# k2 = ('International career', '2019–20: Copa América third-place, suspension and Superclásico victory')\n",
    "# v2 = 'On 21 May, Messi was included in Lionel Scaloni\\'s final 23-man Argentina squad for the 2019 Copa América.[434] In Argentina\\'s second group match of the tournament on 19 June, Messi scored the equalising goal from the penalty spot in a 1–1 draw against Paraguay.[435] After coming under criticism in the media over his performance following Argentina\\'s 2–0 victory over Venezuela in the quarter-finals at the Maracanã Stadium on 28 June, Messi commented that it had not been his best Copa América, while also criticising the poor quality of the pitches.[436] Following Argentina\\'s 2–0 defeat to hosts Brazil in the semi-finals on 2 July, Messi was critical of the refereeing during the match,[437][438] and alleged the competition was \"setup\" for Brazil to win.[439] In the third-place match against Chile on 6 July, Messi set-up Agüero\\'s opening goal from a free kick in an eventual 2–1 win, to help Argentina capture the bronze medal; however, he was sent off along with Gary Medel in the 37th minute of play, after being involved in an altercation with the Chilean defender.[440] Following the match, Messi refused to collect his medal, and implied in a post-match interview that his comments following the semi-final led to his sending off.[441] Messi later issued an apology for his comments, but was fined $1,500 and was handed a one-match ban by CONMEBOL, which ruled him out of Argentina\\'s next World Cup qualifier.[442] On 2 August, Messi was banned for three months from international football and was fined $50,000 by CONMEBOL for his comments against the referee\\'s decisions; this ban meant he would miss Argentina\\'s friendly matches against Chile, Mexico and Germany in September and October.[443] On 15 November, Messi played in the 2019 Superclásico de las Américas versus Brazil, scoring the winning goal by a rebound of his saved penalty.[444] On 8 October 2020, Messi scored a penalty in a 1–0 victory against Ecuador, giving Argentina a winning start to their 2022 World Cup qualifying campaign.[445]\\n'\n",
    "\n",
    "# content_dict = {k1:v1, k2:v2}\n",
    "def structure_as_dict(content_dict):\n",
    "    cd_keys = list(content_dict.keys())\n",
    "    print(cd_keys)\n",
    "    new_content_list = []\n",
    "    for key in cd_keys:\n",
    "        if key == 'opening':\n",
    "            new_content_list.append({'opening':content_dict['opening']})\n",
    "            # print(content_dict[key])\n",
    "            continue\n",
    "        else:\n",
    "            key_list = list(key) #key tuple in list form\n",
    "            temp = key_list.pop()\n",
    "            temp_content_dict = {temp:content_dict[key]}\n",
    "            while len(key_list) > 0:\n",
    "                temp_content_dict = {key_list.pop():temp_content_dict}\n",
    "            # print(temp_content_dict, \"\\n\\n\")\n",
    "            new_content_list.append(temp_content_dict)    \n",
    "    #########################################################\n",
    "    # for item in new_content_list:\n",
    "    #     print(item)\n",
    "\n",
    "    new_content_dict= new_content_list.pop()\n",
    "    print('before',new_content_dict)\n",
    "    # print(new_content_dict, \"/n/n\")\n",
    "    for item in new_content_list:\n",
    "        current_key  = list(item.keys())[0]\n",
    "        d1 = new_content_dict.copy()\n",
    "        # print('current key', current_key)\n",
    "        if current_key  in new_content_dict:\n",
    "            print(True)\n",
    "            new_content_dict = merge(d1, item) #[current_key]\n",
    "        else:\n",
    "            new_content_dict.update(item)\n",
    "    return new_content_dict\n",
    "jsonified = structure_as_dict(content_dict)\n",
    "print(jsonified)"
   ]
  },
  {
   "cell_type": "code",
   "execution_count": 95,
   "metadata": {},
   "outputs": [
    {
     "name": "stdout",
     "output_type": "stream",
     "text": [
      "{\n",
      "    \"Honours\": \"Bayern Munich\\n\\nBayern Munich II\\n\",\n",
      "    \"opening\": \"\\n\\nJosip Stani\\u0161i\\u0107 (Croatian pronunciation:\\u00a0[j\\u01d2sip st\\u01ceni\\u0283it\\u0255]; born 2 April 2000) is a Croatian professional footballer who plays as a defender for Bundesliga club Bayern Munich and the Croatia national team. Mainly a right-back, he can also play in the centre-back position.\\n\",\n",
      "    \"Club career\": \"Stani\\u0161i\\u0107 already played in the youth teams for the then second division TSV 1860 Munich and stayed there until the summer of 2015. As a 15-year-old, the change took place in front of the gates of the state capital in the U16s of the then sixth division SC F\\u00fcrstenfeldbruck.[3] With the club's younger B-Juniors, he was one of the top performers from the start and, as the second-best goalscorer in his team, contributed to the fact that the Bruckers were one of the two top teams in the B-Junior District League alongside 1. FC Garmisch-Partenkirchen. Already in May 2016, just turned 16, he was pulled up to the U17, in which he was also one of the top performers and with two goals in the remaining eight games of the season contributed to the U17 of SC F\\u00fcrstenfeldbruck being promoted from the regional league to the state league, in the junior B division, the third highest division behind the Bundesliga and Bayernliga. The Croatian also had a regular place in the team in the regional league, which just missed the Bayern league at the end of the season. Stanisic was no longer there at this point, however, as FC Bayern Munich had noticed him in the meantime and signed him for their U17s in January 2017. Hardly in Munich, Stani\\u0161i\\u0107 suffered an ankle fracture in preparation for the second half of the season and was out for the rest of the season.[4] So he missed winning the German B-Junior Championship.[5]\\n\\nIn the summer of 2018, Stani\\u0161i\\u0107 played part of the season preparation with the professional team of FC Bayern and was also used in two games in Klagenfurt and Philadelphia.[6] However, Stani\\u0161i\\u0107 continued to play everyday life with the A-Juniors and was the new team captain there in his second season. In January he had to undergo a groin operation and was absent for several weeks. In that season, too, the team missed the final round of the German championship, with fourth place even quite clearly, and the two cup competitions again ended early.\\n\\nStani\\u0161i\\u0107 made his professional debut for Bayern Munich II in the 3. Liga on 26 July 2019, coming on as a substitute at half-time for Angelo Mayer in the home match against KFC Uerdingen, which finished as a 2\\u20131 win.[7]\\n\\nHe made his Bundesliga debut for Bayern Munich in a 1\\u20131 draw with Union Berlin on 10 April 2021, being named in the starting lineup as a left back.[8] On 1 July 2021, Stani\\u0161i\\u0107 signed a professional contract with Bayern until 2023.[9] After impressing Bayern coach Julian Nagelsmann during the pre-season, Stani\\u0161i\\u0107 remained with the senior team, despite the original plan to be sent on loan to Heidenheim.[10][11][12][13][14] He was named in the starting lineup as a right back on 13 August 2021, the first day of Bundesliga, as Bayern drew 1\\u20131 with Borussia M\\u00f6nchengladbach.[15][13] Four days later, he was named in the starting lineup once again, as Bayern defeated Borussia Dortmund 3\\u20131 to win the DFL-Supercup.[16][17][13] On 14 September, Stani\\u0161i\\u0107 made his Champions League debut in a 3\\u20130 victory over Barcelona, coming off the bench for Niklas S\\u00fcle in the 82nd minute.[18][19] On 15 October 2021, Stani\\u0161i\\u0107 extended his contract with Bayern until 2025.[20]\\n\",\n",
      "    \"International career\": \"Stani\\u0161i\\u0107 holds both German and Croatian citizenships.[21] Despite previously playing for Germany U19,[22][23] Stani\\u0161i\\u0107 was called up to the Croatia U21 team by Igor Bi\\u0161\\u0107an on 23 August 2021 for the upcoming UEFA Under-21 Euro 2023 qualifiers against Azerbaijan and Finland.[24] However, he failed to make his debut due to an injury.[25] Soon after, on 20 September, Stani\\u0161i\\u0107 was called up to the senior Croatia team by Zlatko Dali\\u0107 for the upcoming 2022 FIFA World Cup qualifiers against Cyprus and Slovakia.[26] He made his debut on 8 October in a 3\\u20130 victory over the former opponent, being named in the starting lineup.[27]\\n\",\n",
      "    \"Personal life\": \"Stani\\u0161i\\u0107 was born in Munich to Croat parents. His father Damir hails from Malino, and his mother Sandra hails from Oriovac.[28][1][29]\\n\"\n",
      "}\n"
     ]
    }
   ],
   "source": [
    "jsonified_new = json.dumps(jsonified, indent = 4)\n",
    "print(jsonified_new)"
   ]
  },
  {
   "cell_type": "code",
   "execution_count": 59,
   "metadata": {},
   "outputs": [
    {
     "name": "stdout",
     "output_type": "stream",
     "text": [
      "{\n",
      "    \"International career\": {\n",
      "        \"2019\\u201320: Copa Am\\u00e9rica third-place, suspension and Supercl\\u00e1sico victory\": \"On 21 May, Messi was included in Lionel Scaloni's final 23-man Argentina squad for the 2019 Copa Am\\u00e9rica.[434] In Argentina's second group match of the tournament on 19 June, Messi scored the equalising goal from the penalty spot in a 1\\u20131 draw against Paraguay.[435] After coming under criticism in the media over his performance following Argentina's 2\\u20130 victory over Venezuela in the quarter-finals at the Maracan\\u00e3 Stadium on 28 June, Messi commented that it had not been his best Copa Am\\u00e9rica, while also criticising the poor quality of the pitches.[436] Following Argentina's 2\\u20130 defeat to hosts Brazil in the semi-finals on 2 July, Messi was critical of the refereeing during the match,[437][438] and alleged the competition was \\\"setup\\\" for Brazil to win.[439] In the third-place match against Chile on 6 July, Messi set-up Ag\\u00fcero's opening goal from a free kick in an eventual 2\\u20131 win, to help Argentina capture the bronze medal; however, he was sent off along with Gary Medel in the 37th minute of play, after being involved in an altercation with the Chilean defender.[440] Following the match, Messi refused to collect his medal, and implied in a post-match interview that his comments following the semi-final led to his sending off.[441] Messi later issued an apology for his comments, but was fined $1,500 and was handed a one-match ban by CONMEBOL, which ruled him out of Argentina's next World Cup qualifier.[442] On 2 August, Messi was banned for three months from international football and was fined $50,000 by CONMEBOL for his comments against the referee's decisions; this ban meant he would miss Argentina's friendly matches against Chile, Mexico and Germany in September and October.[443] On 15 November, Messi played in the 2019 Supercl\\u00e1sico de las Am\\u00e9ricas versus Brazil, scoring the winning goal by a rebound of his saved penalty.[444] On 8 October 2020, Messi scored a penalty in a 1\\u20130 victory against Ecuador, giving Argentina a winning start to their 2022 World Cup qualifying campaign.[445]\\n\",\n",
      "        \"2016\\u201317: Third Copa Am\\u00e9rica final, retirement, and return\": {\n",
      "            \"Return\": \"Just a week after Messi announced his international retirement, Argentine newspaper La Naci\\u00f3n reported that he was reconsidering playing for Argentina at the 2018 FIFA World Cup qualifiers in September.[409] On 12 August, it was confirmed that Messi had reversed his decision to retire from international football, and he was included in the squad for the national team's upcoming 2018 World Cup qualifiers.[410] On 1 September, in his first game back, he scored in a 1\\u20130 home win over Uruguay in a 2018 World Cup qualifier.[411]\\n\\nOn 28 March 2017, Messi was suspended for four international games for insulting an assistant referee in a game against Chile on 23 March 2017. He was also fined CHF 10,000.[412][413] On 5 May, Messi's four match ban as well as his 10,000 CHF fine was lifted by FIFA after Argentina Football Association appealed against his suspension, which meant he could now play Argentina's remaining World Cup Qualifiers.[414] Argentina's place in the 2018 World Cup was in jeopardy going into their final qualifying match as they were sixth in their group, outside the five possible CONMEBOL World Cup qualifying spots, meaning they risked failing to qualify for the World Cup for the first time since 1970. On 10 October, Messi led his country to World Cup qualification in scoring a hat-trick as Argentina came from behind to defeat Ecuador 3\\u20131 away; Argentina had not defeated Ecuador in Quito since 2001.[415] Messi's three goals saw him become the joint all-time leading scorer in CONMEBOL World Cup qualifiers with 21 goals, alongside Uruguay's Luis Su\\u00e1rez, overtaking the previous record which was held by compatriot Hern\\u00e1n Crespo.[415]\\n\"\n",
      "        }\n",
      "    }\n",
      "}\n"
     ]
    }
   ],
   "source": []
  },
  {
   "cell_type": "code",
   "execution_count": null,
   "metadata": {},
   "outputs": [],
   "source": []
  }
 ],
 "metadata": {
  "interpreter": {
   "hash": "903c6381022ce11ae579cb5a90d8a6f3bd5bf0e7eda2a8c44ca8e21e5da2e68b"
  },
  "kernelspec": {
   "display_name": "Python 3.8.12 64-bit ('DeepLearning': conda)",
   "language": "python",
   "name": "python3"
  },
  "language_info": {
   "codemirror_mode": {
    "name": "ipython",
    "version": 3
   },
   "file_extension": ".py",
   "mimetype": "text/x-python",
   "name": "python",
   "nbconvert_exporter": "python",
   "pygments_lexer": "ipython3",
   "version": "3.8.12"
  },
  "orig_nbformat": 4
 },
 "nbformat": 4,
 "nbformat_minor": 2
}
