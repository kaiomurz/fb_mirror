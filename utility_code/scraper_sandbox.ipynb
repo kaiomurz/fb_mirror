{
 "cells": [
  {
   "cell_type": "code",
   "execution_count": 184,
   "metadata": {},
   "outputs": [],
   "source": [
    "from abc import ABC, abstractmethod\n",
    "\n",
    "import shutil\n",
    "import requests\n",
    "from bs4 import BeautifulSoup\n",
    "from lxml import etree\n",
    "import pandas as pd\n",
    "import re\n",
    "import sys\n",
    "import json\n",
    "\n",
    "import random\n",
    "import time\n",
    "import threading\n",
    "import concurrent.futures\n",
    "\n",
    "\n"
   ]
  },
  {
   "cell_type": "code",
   "execution_count": 190,
   "metadata": {},
   "outputs": [
    {
     "name": "stdout",
     "output_type": "stream",
     "text": [
      "['/home/kaiomurz/Google Drive/Programming/AICore/web_scraping/fb_aggregator/utility_code', '/home/kaiomurz/.vscode/extensions/ms-toolsai.jupyter-2021.11.1001550889/pythonFiles', '/home/kaiomurz/.vscode/extensions/ms-toolsai.jupyter-2021.11.1001550889/pythonFiles/lib/python', '/home/kaiomurz/miniconda3/envs/DeepLearning/lib/python38.zip', '/home/kaiomurz/miniconda3/envs/DeepLearning/lib/python3.8', '/home/kaiomurz/miniconda3/envs/DeepLearning/lib/python3.8/lib-dynload', '', '/home/kaiomurz/miniconda3/envs/DeepLearning/lib/python3.8/site-packages', '/home/kaiomurz/miniconda3/envs/DeepLearning/lib/python3.8/site-packages/IPython/extensions', '/home/kaiomurz/.ipython', './src', './src/scrapers']\n"
     ]
    }
   ],
   "source": [
    "print(sys.path)"
   ]
  },
  {
   "cell_type": "code",
   "execution_count": 186,
   "metadata": {},
   "outputs": [
    {
     "data": {
      "text/plain": [
       "'/home/kaiomurz/Google Drive/Programming/AICore/web_scraping/fb_aggregator/utility_code'"
      ]
     },
     "execution_count": 186,
     "metadata": {},
     "output_type": "execute_result"
    }
   ],
   "source": [
    "pwd"
   ]
  },
  {
   "cell_type": "code",
   "execution_count": 187,
   "metadata": {},
   "outputs": [
    {
     "name": "stdout",
     "output_type": "stream",
     "text": [
      "/home/kaiomurz/Google Drive/Programming/AICore/web_scraping/fb_aggregator\n"
     ]
    }
   ],
   "source": [
    "cd ..\n"
   ]
  },
  {
   "cell_type": "code",
   "execution_count": 191,
   "metadata": {},
   "outputs": [],
   "source": [
    "sys.path.append('/home/kaiomurz/Google Drive/Programming/AICore/web_scraping/fb_aggregator/src/scrapers')"
   ]
  },
  {
   "cell_type": "code",
   "execution_count": null,
   "metadata": {},
   "outputs": [],
   "source": []
  }
 ],
 "metadata": {
  "interpreter": {
   "hash": "903c6381022ce11ae579cb5a90d8a6f3bd5bf0e7eda2a8c44ca8e21e5da2e68b"
  },
  "kernelspec": {
   "display_name": "Python 3.8.12 64-bit ('DeepLearning': conda)",
   "language": "python",
   "name": "python3"
  },
  "language_info": {
   "codemirror_mode": {
    "name": "ipython",
    "version": 3
   },
   "file_extension": ".py",
   "mimetype": "text/x-python",
   "name": "python",
   "nbconvert_exporter": "python",
   "pygments_lexer": "ipython3",
   "version": "3.8.12"
  },
  "orig_nbformat": 4
 },
 "nbformat": 4,
 "nbformat_minor": 2
}
