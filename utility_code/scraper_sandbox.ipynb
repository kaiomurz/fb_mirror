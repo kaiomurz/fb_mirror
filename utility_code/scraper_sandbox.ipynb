{
 "cells": [
  {
   "cell_type": "code",
   "execution_count": 44,
   "metadata": {},
   "outputs": [],
   "source": [
    "import shutil\n",
    "import requests\n",
    "from bs4 import BeautifulSoup\n",
    "from lxml import etree\n",
    "import pandas as pd\n",
    "import re\n",
    "import sys\n",
    "\n",
    "import random\n",
    "import time\n",
    "import threading\n",
    "import concurrent.futures"
   ]
  },
  {
   "cell_type": "code",
   "execution_count": 45,
   "metadata": {},
   "outputs": [],
   "source": [
    "# url = \"https://en.wikipedia.org/wiki/Lionel_Messi\"\n",
    "# url = \"https://en.wikipedia.org/wiki/Cristiano_Ronaldo\"\n",
    "# url = \"https://fbref.com/en/players/21a66f6a/Harry-Kane\"\n",
    "# url = \"https://en.wikipedia.org/wiki/Folarin_Balogun\"\n",
    "url = 'https://duckduckgo.com/?q=cristiano+ronaldo'\n",
    "soup = BeautifulSoup(requests.get(url).text, 'html.parser')"
   ]
  },
  {
   "cell_type": "code",
   "execution_count": 46,
   "metadata": {},
   "outputs": [],
   "source": [
    "def extract_club_urls(soup):\n",
    "    table = soup.find('tbody')\n",
    "    links = table.find_all('a')\n",
    "    club_urls = [\"https://fbref.com\" + link['href'] for link in links if 'squads' in link['href']]\n",
    "    return club_urls\n",
    "\n",
    "\n",
    "def get_club_urls():\n",
    "    url = 'https://fbref.com/en/comps/Big5/Big-5-European-Leagues-Stats'\n",
    "    soup = BeautifulSoup(requests.get(url).text, 'html.parser')\n",
    "    club_urls = extract_club_urls(soup)\n",
    "    return club_urls\n"
   ]
  },
  {
   "cell_type": "code",
   "execution_count": null,
   "metadata": {},
   "outputs": [],
   "source": [
    "club_urls"
   ]
  },
  {
   "cell_type": "code",
   "execution_count": 48,
   "metadata": {},
   "outputs": [],
   "source": [
    "# for single player \n",
    "def extract_player_urls(soup):\n",
    "    global counter\n",
    "    global player_url_dict \n",
    "\n",
    "\n",
    "    table = soup.find('tbody')\n",
    "    links = table.find_all('a')\n",
    "    player_urls = [\"https://fbref.com\" + link['href']\\\n",
    "        for link in links if\\\n",
    "        'players' in link['href'] and\\\n",
    "        'matchlogs' not in link['href']]\n",
    "    \n",
    "    for url in player_urls:\n",
    "        counter += 1\n",
    "        player_url_dict[counter] = url\n",
    "\n",
    "\n",
    "\n",
    "def get_player_urls(club_url): #output should be a url\n",
    "    time.sleep(2*random.random()) #use throttle as class attribute\n",
    "    soup = BeautifulSoup(requests.get(club_url).text, 'html.parser')\n",
    "    extract_player_urls(soup)\n",
    "\n",
    "with concurrent.futures.ThreadPoolExecutor(max_workers=3) as executor: \n",
    "    counter = 0\n",
    "    player_url_dict = {}\n",
    "    executor.map(get_player_urls, club_urls[:2])###remove slicing\n",
    "    \n"
   ]
  },
  {
   "cell_type": "code",
   "execution_count": 49,
   "metadata": {},
   "outputs": [
    {
     "data": {
      "text/plain": [
       "{1: 'https://fbref.com/en/players/3bb7b8b4/Ederson',\n",
       " 2: 'https://fbref.com/en/players/bd6351cd/Joao-Cancelo',\n",
       " 3: 'https://fbref.com/en/players/3eb22ec9/Bernardo-Silva',\n",
       " 4: 'https://fbref.com/en/players/31c69ef1/Ruben-Dias',\n",
       " 5: 'https://fbref.com/en/players/6434f10d/Rodri',\n",
       " 6: 'https://fbref.com/en/players/119b9a8e/Aymeric-Laporte',\n",
       " 7: 'https://fbref.com/en/players/b66315ae/Gabriel-Jesus',\n",
       " 8: 'https://fbref.com/en/players/b0b4fd3e/Jack-Grealish',\n",
       " 9: 'https://fbref.com/en/players/86dd77d1/Kyle-Walker',\n",
       " 10: 'https://fbref.com/en/players/b400bde0/Raheem-Sterling',\n",
       " 11: 'https://fbref.com/en/players/ed1e53f3/Phil-Foden',\n",
       " 12: 'https://fbref.com/en/players/e46012d4/Kevin-De-Bruyne',\n",
       " 13: 'https://fbref.com/en/players/819b3158/Ilkay-Gundogan',\n",
       " 14: 'https://fbref.com/en/players/892d5bb1/Riyad-Mahrez',\n",
       " 15: 'https://fbref.com/en/players/eaeca114/Nathan-Ake',\n",
       " 16: 'https://fbref.com/en/players/101da2b5/Fernandinho',\n",
       " 17: 'https://fbref.com/en/players/51cf8561/Oleksandr-Zinchenko',\n",
       " 18: 'https://fbref.com/en/players/5eecec3d/John-Stones',\n",
       " 19: 'https://fbref.com/en/players/9e1035f8/Ferran-Torres',\n",
       " 20: 'https://fbref.com/en/players/dc7f8a28/Cole-Palmer',\n",
       " 21: 'https://fbref.com/en/players/42130443/Zack-Steffen',\n",
       " 22: 'https://fbref.com/en/players/5271c8f1/Benjamin-Mendy',\n",
       " 23: 'https://fbref.com/en/players/96593e89/James-Mcatee',\n",
       " 24: 'https://fbref.com/en/players/3e1550ee/Scott-Carson',\n",
       " 25: 'https://fbref.com/en/players/17734ea0/Kayky-Chagas',\n",
       " 26: 'https://fbref.com/en/players/5526deb1/Thomas-Doyle',\n",
       " 27: 'https://fbref.com/en/players/007414dd/Samuel-Edozie',\n",
       " 28: 'https://fbref.com/en/players/d313e8ff/CJ-Egan-Riley',\n",
       " 29: 'https://fbref.com/en/players/ecad9aa5/Romeo-Lavia',\n",
       " 30: 'https://fbref.com/en/players/387e1d35/Luke-Mbete-Tatu',\n",
       " 31: 'https://fbref.com/en/players/02aed921/Cieran-Slicker',\n",
       " 32: 'https://fbref.com/en/players/c19a2df1/Josh-Wilson-Esbrand',\n",
       " 33: 'https://fbref.com/en/players/8d78e732/Robert-Lewandowski',\n",
       " 34: 'https://fbref.com/en/players/3c6089ab/Thomas-Muller',\n",
       " 35: 'https://fbref.com/en/players/8778c910/Manuel-Neuer',\n",
       " 36: 'https://fbref.com/en/players/d781d855/Alphonso-Davies',\n",
       " 37: 'https://fbref.com/en/players/2b114be3/Leroy-Sane',\n",
       " 38: 'https://fbref.com/en/players/c3ee18ef/Lucas-Hernandez',\n",
       " 39: 'https://fbref.com/en/players/d248cd8f/Dayot-Upamecano',\n",
       " 40: 'https://fbref.com/en/players/49296448/Joshua-Kimmich',\n",
       " 41: 'https://fbref.com/en/players/88e357ef/Serge-Gnabry',\n",
       " 42: 'https://fbref.com/en/players/e33c06cf/Niklas-Sule',\n",
       " 43: 'https://fbref.com/en/players/45a03961/Benjamin-Pavard',\n",
       " 44: 'https://fbref.com/en/players/cc86b9a3/Leon-Goretzka',\n",
       " 45: 'https://fbref.com/en/players/2c0558b8/Jamal-Musiala',\n",
       " 46: 'https://fbref.com/en/players/042e8a49/Kingsley-Coman',\n",
       " 47: 'https://fbref.com/en/players/652d4c37/Corentin-Tolisso',\n",
       " 48: 'https://fbref.com/en/players/e280527c/Marcel-Sabitzer',\n",
       " 49: 'https://fbref.com/en/players/7ed08d5c/Josip-Stanisic',\n",
       " 50: 'https://fbref.com/en/players/da27e268/Marc-Roca',\n",
       " 51: 'https://fbref.com/en/players/f9b1b7bf/Omar-Richards',\n",
       " 52: 'https://fbref.com/en/players/5853ac44/Nianzou-Kouassi',\n",
       " 53: 'https://fbref.com/en/players/a5420709/Malik-Tillman',\n",
       " 54: 'https://fbref.com/en/players/7d3e7da6/Sven-Ulreich',\n",
       " 55: 'https://fbref.com/en/players/0e6bc38c/Eric-Maxim-Choupo-Moting',\n",
       " 56: 'https://fbref.com/en/players/1a4b9094/Bouna-Sarr',\n",
       " 57: 'https://fbref.com/en/players/cb64672e/Paul-Wanner',\n",
       " 58: 'https://fbref.com/en/players/8356931a/Lucas-Copado',\n",
       " 59: 'https://fbref.com/en/players/5722eced/Mickael-Cuisance',\n",
       " 60: 'https://fbref.com/en/players/0a3d6d2b/Chris-Richards',\n",
       " 61: 'https://fbref.com/en/players/1394bf42/Bright-Arrey-Mbi',\n",
       " 62: 'https://fbref.com/en/players/6d8ec5d5/Nicolas-Feldhahn',\n",
       " 63: 'https://fbref.com/en/players/1940be91/Christian-Fruchtl',\n",
       " 64: 'https://fbref.com/en/players/f5c4fd91/Arijon-Ibrahimovic',\n",
       " 65: 'https://fbref.com/en/players/d78d867d/Timo-Kern',\n",
       " 66: 'https://fbref.com/en/players/ab892a73/Jamie-Lawrence',\n",
       " 67: 'https://fbref.com/en/players/1774c547/Nemanja-Motika'}"
      ]
     },
     "execution_count": 49,
     "metadata": {},
     "output_type": "execute_result"
    }
   ],
   "source": [
    "player_url_dict"
   ]
  },
  {
   "cell_type": "code",
   "execution_count": 39,
   "metadata": {},
   "outputs": [
    {
     "name": "stdout",
     "output_type": "stream",
     "text": [
      "fbref_parser.py  __init__.py\n"
     ]
    }
   ],
   "source": [
    "class Scraper:\n",
    "    #urls\n",
    "    #response\n",
    "    #soup\n",
    "    #extractor\n",
    "    pass\n"
   ]
  },
  {
   "cell_type": "code",
   "execution_count": 43,
   "metadata": {},
   "outputs": [
    {
     "ename": "ModuleNotFoundError",
     "evalue": "No module named 'parsers'",
     "output_type": "error",
     "traceback": [
      "\u001b[0;31m---------------------------------------------------------------------------\u001b[0m",
      "\u001b[0;31mModuleNotFoundError\u001b[0m                       Traceback (most recent call last)",
      "\u001b[0;32m/tmp/ipykernel_132592/366939472.py\u001b[0m in \u001b[0;36m<module>\u001b[0;34m\u001b[0m\n\u001b[0;32m----> 1\u001b[0;31m \u001b[0;32mfrom\u001b[0m \u001b[0mparsers\u001b[0m \u001b[0;32mimport\u001b[0m \u001b[0mfbref_parser\u001b[0m\u001b[0;34m\u001b[0m\u001b[0;34m\u001b[0m\u001b[0m\n\u001b[0m",
      "\u001b[0;31mModuleNotFoundError\u001b[0m: No module named 'parsers'"
     ]
    }
   ],
   "source": [
    "from parsers import fbref_parser"
   ]
  },
  {
   "cell_type": "code",
   "execution_count": null,
   "metadata": {},
   "outputs": [],
   "source": []
  }
 ],
 "metadata": {
  "interpreter": {
   "hash": "903c6381022ce11ae579cb5a90d8a6f3bd5bf0e7eda2a8c44ca8e21e5da2e68b"
  },
  "kernelspec": {
   "display_name": "Python 3.8.12 64-bit ('DeepLearning': conda)",
   "language": "python",
   "name": "python3"
  },
  "language_info": {
   "codemirror_mode": {
    "name": "ipython",
    "version": 3
   },
   "file_extension": ".py",
   "mimetype": "text/x-python",
   "name": "python",
   "nbconvert_exporter": "python",
   "pygments_lexer": "ipython3",
   "version": "3.8.12"
  },
  "orig_nbformat": 4
 },
 "nbformat": 4,
 "nbformat_minor": 2
}
