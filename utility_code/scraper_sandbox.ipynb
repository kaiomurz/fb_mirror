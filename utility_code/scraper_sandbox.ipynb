{
 "cells": [
  {
   "cell_type": "code",
   "execution_count": 1,
   "metadata": {},
   "outputs": [],
   "source": [
    "from abc import ABC, abstractmethod\n",
    "\n",
    "import shutil\n",
    "import requests\n",
    "from bs4 import BeautifulSoup\n",
    "from lxml import etree\n",
    "import pandas as pd\n",
    "import re\n",
    "import sys\n",
    "\n",
    "import random\n",
    "import time\n",
    "import threading\n",
    "import concurrent.futures"
   ]
  },
  {
   "cell_type": "code",
   "execution_count": 45,
   "metadata": {},
   "outputs": [],
   "source": [
    "# url = \"https://en.wikipedia.org/wiki/Lionel_Messi\"\n",
    "# url = \"https://en.wikipedia.org/wiki/Cristiano_Ronaldo\"\n",
    "# url = \"https://fbref.com/en/players/21a66f6a/Harry-Kane\"\n",
    "# url = \"https://en.wikipedia.org/wiki/Folarin_Balogun\"\n",
    "url = 'https://duckduckgo.com/?q=cristiano+ronaldo'\n",
    "soup = BeautifulSoup(requests.get(url).text, 'html.parser')"
   ]
  },
  {
   "cell_type": "code",
   "execution_count": 46,
   "metadata": {},
   "outputs": [],
   "source": [
    "def extract_club_urls(soup):\n",
    "    table = soup.find('tbody')\n",
    "    links = table.find_all('a')\n",
    "    club_urls = [\"https://fbref.com\" + link['href'] for link in links if 'squads' in link['href']]\n",
    "    return club_urls\n",
    "\n",
    "\n",
    "def get_club_urls():\n",
    "    url = 'https://fbref.com/en/comps/Big5/Big-5-European-Leagues-Stats'\n",
    "    soup = BeautifulSoup(requests.get(url).text, 'html.parser')\n",
    "    club_urls = extract_club_urls(soup)\n",
    "    return club_urls\n"
   ]
  },
  {
   "cell_type": "code",
   "execution_count": null,
   "metadata": {},
   "outputs": [],
   "source": [
    "club_urls"
   ]
  },
  {
   "cell_type": "code",
   "execution_count": 48,
   "metadata": {},
   "outputs": [],
   "source": [
    "# for single player \n",
    "def extract_player_urls(soup):\n",
    "    global counter\n",
    "    global player_url_dict \n",
    "\n",
    "\n",
    "    table = soup.find('tbody')\n",
    "    links = table.find_all('a')\n",
    "    player_urls = [\"https://fbref.com\" + link['href']\\\n",
    "        for link in links if\\\n",
    "        'players' in link['href'] and\\\n",
    "        'matchlogs' not in link['href']]\n",
    "    \n",
    "    for url in player_urls:\n",
    "        counter += 1\n",
    "        player_url_dict[counter] = url\n",
    "\n",
    "\n",
    "\n",
    "def get_player_urls(club_url): #output should be a url\n",
    "    time.sleep(2*random.random()) #use throttle as class attribute\n",
    "    soup = BeautifulSoup(requests.get(club_url).text, 'html.parser')\n",
    "    extract_player_urls(soup)\n",
    "\n",
    "with concurrent.futures.ThreadPoolExecutor(max_workers=3) as executor: \n",
    "    counter = 0\n",
    "    player_url_dict = {}\n",
    "    executor.map(get_player_urls, club_urls[:2])###remove slicing\n",
    "    \n"
   ]
  },
  {
   "cell_type": "code",
   "execution_count": null,
   "metadata": {},
   "outputs": [],
   "source": [
    "player_url_dict"
   ]
  },
  {
   "cell_type": "code",
   "execution_count": 1,
   "metadata": {},
   "outputs": [
    {
     "name": "stdout",
     "output_type": "stream",
     "text": [
      "Club URL scraper\n"
     ]
    }
   ],
   "source": [
    "sys.path.append(\"..\")\n",
    "from scrapers.fbref_scrapers import ClubURLsScraper\n",
    "club_url_scraper = ClubURLsScraper()\n",
    "club_url_scraper.urls = ['https://fbref.com/en/comps/Big5/Big-5-European-Leagues-Stats']"
   ]
  },
  {
   "cell_type": "code",
   "execution_count": 2,
   "metadata": {},
   "outputs": [
    {
     "name": "stdout",
     "output_type": "stream",
     "text": [
      "in crawl https://fbref.com/en/comps/Big5/Big-5-European-Leagues-Stats\n",
      "extract data\n"
     ]
    }
   ],
   "source": [
    "club_url_scraper.run()"
   ]
  },
  {
   "cell_type": "code",
   "execution_count": 3,
   "metadata": {},
   "outputs": [
    {
     "data": {
      "text/plain": [
       "['https://fbref.com/en/squads/b8fd03ef/Manchester-City-Stats',\n",
       " 'https://fbref.com/en/squads/054efa67/Bayern-Munich-Stats',\n",
       " 'https://fbref.com/en/squads/d609edc0/Internazionale-Stats',\n",
       " 'https://fbref.com/en/squads/e2d8892c/Paris-Saint-Germain-Stats',\n",
       " 'https://fbref.com/en/squads/53a2f082/Real-Madrid-Stats',\n",
       " 'https://fbref.com/en/squads/822bd0ba/Liverpool-Stats',\n",
       " 'https://fbref.com/en/squads/add600ae/Dortmund-Stats',\n",
       " 'https://fbref.com/en/squads/d48ad4ff/Napoli-Stats',\n",
       " 'https://fbref.com/en/squads/dc56fe14/Milan-Stats',\n",
       " 'https://fbref.com/en/squads/ad2be733/Sevilla-Stats',\n",
       " 'https://fbref.com/en/squads/cff3d9bb/Chelsea-Stats',\n",
       " 'https://fbref.com/en/squads/132ebc33/Nice-Stats',\n",
       " 'https://fbref.com/en/squads/922493f3/Atalanta-Stats',\n",
       " 'https://fbref.com/en/squads/5725cc7b/Marseille-Stats',\n",
       " 'https://fbref.com/en/squads/e0652b02/Juventus-Stats',\n",
       " 'https://fbref.com/en/squads/fc536746/Real-Betis-Stats',\n",
       " 'https://fbref.com/en/squads/361ca564/Tottenham-Hotspur-Stats',\n",
       " 'https://fbref.com/en/squads/c7a9f859/Bayer-Leverkusen-Stats',\n",
       " 'https://fbref.com/en/squads/19538871/Manchester-United-Stats',\n",
       " 'https://fbref.com/en/squads/db3b9613/Atletico-Madrid-Stats',\n",
       " 'https://fbref.com/en/squads/18bb7c10/Arsenal-Stats',\n",
       " 'https://fbref.com/en/squads/7a41008f/Union-Berlin-Stats',\n",
       " 'https://fbref.com/en/squads/206d90db/Barcelona-Stats',\n",
       " 'https://fbref.com/en/squads/a486e511/Freiburg-Stats',\n",
       " 'https://fbref.com/en/squads/cf74a709/Roma-Stats',\n",
       " 'https://fbref.com/en/squads/421387cf/Fiorentina-Stats',\n",
       " 'https://fbref.com/en/squads/8cec06e1/Wolverhampton-Wanderers-Stats',\n",
       " 'https://fbref.com/en/squads/e31d1cd9/Real-Sociedad-Stats',\n",
       " 'https://fbref.com/en/squads/7c21e445/West-Ham-United-Stats',\n",
       " 'https://fbref.com/en/squads/c0d3eab4/Strasbourg-Stats',\n",
       " 'https://fbref.com/en/squads/7213da33/Lazio-Stats',\n",
       " 'https://fbref.com/en/squads/b3072e00/Rennes-Stats',\n",
       " 'https://fbref.com/en/squads/acbb6a5b/RB-Leipzig-Stats',\n",
       " 'https://fbref.com/en/squads/033ea6b8/Hoffenheim-Stats',\n",
       " 'https://fbref.com/en/squads/281b0e73/Montpellier-Stats',\n",
       " 'https://fbref.com/en/squads/d53c0b06/Lyon-Stats',\n",
       " 'https://fbref.com/en/squads/fd6114db/Monaco-Stats',\n",
       " 'https://fbref.com/en/squads/fd4e0f7d/Lens-Stats',\n",
       " 'https://fbref.com/en/squads/98e8af82/Rayo-Vallecano-Stats',\n",
       " 'https://fbref.com/en/squads/2a8183b3/Villarreal-Stats',\n",
       " 'https://fbref.com/en/squads/105360fe/Torino-Stats',\n",
       " 'https://fbref.com/en/squads/d7a486cd/Nantes-Stats',\n",
       " 'https://fbref.com/en/squads/cb188c0c/Lille-Stats',\n",
       " 'https://fbref.com/en/squads/bc357bf7/Koln-Stats',\n",
       " 'https://fbref.com/en/squads/0e72edf2/Hellas-Verona-Stats',\n",
       " 'https://fbref.com/en/squads/2b390eca/Athletic-Club-Stats',\n",
       " 'https://fbref.com/en/squads/f0ac8ee6/Eintracht-Frankfurt-Stats',\n",
       " 'https://fbref.com/en/squads/69236f98/Angers-Stats',\n",
       " 'https://fbref.com/en/squads/d07537b9/Brighton-and-Hove-Albion-Stats',\n",
       " 'https://fbref.com/en/squads/a224b06a/Mainz-05-Stats',\n",
       " 'https://fbref.com/en/squads/dcc91a7b/Valencia-Stats',\n",
       " 'https://fbref.com/en/squads/a2d435b3/Leicester-City-Stats',\n",
       " 'https://fbref.com/en/squads/03c57e2b/Osasuna-Stats',\n",
       " 'https://fbref.com/en/squads/fb08dbb3/Brest-Stats',\n",
       " 'https://fbref.com/en/squads/e2befd26/Sassuolo-Stats',\n",
       " 'https://fbref.com/en/squads/a3d88bd8/Empoli-Stats',\n",
       " 'https://fbref.com/en/squads/8602292d/Aston-Villa-Stats',\n",
       " 'https://fbref.com/en/squads/f25da7fb/Celta-Vigo-Stats',\n",
       " 'https://fbref.com/en/squads/a8661628/Espanyol-Stats',\n",
       " 'https://fbref.com/en/squads/1d8099f8/Bologna-Stats',\n",
       " 'https://fbref.com/en/squads/b42c6323/Bochum-Stats',\n",
       " 'https://fbref.com/en/squads/33c895d4/Southampton-Stats',\n",
       " 'https://fbref.com/en/squads/32f3ee20/Monchengladbach-Stats',\n",
       " 'https://fbref.com/en/squads/2818f8bc/Hertha-BSC-Stats',\n",
       " 'https://fbref.com/en/squads/47c64c55/Crystal-Palace-Stats',\n",
       " 'https://fbref.com/en/squads/7fdd64e0/Reims-Stats',\n",
       " 'https://fbref.com/en/squads/04eea015/Udinese-Stats',\n",
       " 'https://fbref.com/en/squads/a0435291/Granada-Stats',\n",
       " 'https://fbref.com/en/squads/68449f6d/Spezia-Stats',\n",
       " 'https://fbref.com/en/squads/247c4b67/Arminia-Stats',\n",
       " 'https://fbref.com/en/squads/6c8b07df/Elche-Stats',\n",
       " 'https://fbref.com/en/squads/4eaa11d7/Wolfsburg-Stats',\n",
       " 'https://fbref.com/en/squads/5bfb9659/Leeds-United-Stats',\n",
       " 'https://fbref.com/en/squads/7848bd64/Getafe-Stats',\n",
       " 'https://fbref.com/en/squads/cd051869/Brentford-Stats',\n",
       " 'https://fbref.com/en/squads/d3fd31cc/Everton-Stats',\n",
       " 'https://fbref.com/en/squads/0cdc4311/Augsburg-Stats',\n",
       " 'https://fbref.com/en/squads/2aa12281/Mallorca-Stats',\n",
       " 'https://fbref.com/en/squads/d9676424/Clermont-Foot-Stats',\n",
       " 'https://fbref.com/en/squads/54195385/Troyes-Stats',\n",
       " 'https://fbref.com/en/squads/123f3efe/Bordeaux-Stats',\n",
       " 'https://fbref.com/en/squads/598bc722/Stuttgart-Stats',\n",
       " 'https://fbref.com/en/squads/8ff9e3b3/Sampdoria-Stats',\n",
       " 'https://fbref.com/en/squads/f83960ae/Metz-Stats',\n",
       " 'https://fbref.com/en/squads/ee7c297c/Cadiz-Stats',\n",
       " 'https://fbref.com/en/squads/af5d5982/Venezia-Stats',\n",
       " 'https://fbref.com/en/squads/8d6fd021/Alaves-Stats',\n",
       " 'https://fbref.com/en/squads/d2c87802/Lorient-Stats',\n",
       " 'https://fbref.com/en/squads/c4260e09/Cagliari-Stats',\n",
       " 'https://fbref.com/en/squads/1c781004/Norwich-City-Stats',\n",
       " 'https://fbref.com/en/squads/b2b47a98/Newcastle-United-Stats',\n",
       " 'https://fbref.com/en/squads/2abfe087/Watford-Stats',\n",
       " 'https://fbref.com/en/squads/943e8050/Burnley-Stats',\n",
       " 'https://fbref.com/en/squads/d298ef2c/Saint-Etienne-Stats',\n",
       " 'https://fbref.com/en/squads/658bf2de/Genoa-Stats',\n",
       " 'https://fbref.com/en/squads/9800b6a1/Levante-Stats',\n",
       " 'https://fbref.com/en/squads/12192a4c/Greuther-Furth-Stats',\n",
       " 'https://fbref.com/en/squads/c5577084/Salernitana-Stats']"
      ]
     },
     "execution_count": 3,
     "metadata": {},
     "output_type": "execute_result"
    }
   ],
   "source": [
    "club_url_scraper.result"
   ]
  },
  {
   "cell_type": "code",
   "execution_count": 4,
   "metadata": {},
   "outputs": [],
   "source": [
    "import inspect"
   ]
  },
  {
   "cell_type": "code",
   "execution_count": 24,
   "metadata": {},
   "outputs": [],
   "source": [
    "f = club_url_scraper.save_result"
   ]
  },
  {
   "cell_type": "code",
   "execution_count": 7,
   "metadata": {},
   "outputs": [
    {
     "data": {
      "text/plain": [
       "\"    def save_result(self, file_name):\\n        pickle.dump(self.result,open(file_name,'wb'))\\n\""
      ]
     },
     "execution_count": 7,
     "metadata": {},
     "output_type": "execute_result"
    }
   ],
   "source": [
    "inspect.getsource(club_url_scraper.save_result)"
   ]
  },
  {
   "cell_type": "code",
   "execution_count": 8,
   "metadata": {},
   "outputs": [],
   "source": [
    "# club_url_scraper.save_result\n",
    "club_url_scraper.save_result(\"result.pickle\")"
   ]
  },
  {
   "cell_type": "code",
   "execution_count": 9,
   "metadata": {},
   "outputs": [
    {
     "name": "stdout",
     "output_type": "stream",
     "text": [
      "__init__.py  result.pickle  scraper_sandbox.ipynb  snippets.py\n"
     ]
    }
   ],
   "source": [
    "ls"
   ]
  },
  {
   "cell_type": "code",
   "execution_count": 12,
   "metadata": {},
   "outputs": [],
   "source": [
    "result = pickle.load(open(\"result.pickle\", \"rb\"))\n",
    "# import pickle"
   ]
  },
  {
   "cell_type": "code",
   "execution_count": 13,
   "metadata": {},
   "outputs": [
    {
     "data": {
      "text/plain": [
       "['https://fbref.com/en/squads/b8fd03ef/Manchester-City-Stats',\n",
       " 'https://fbref.com/en/squads/054efa67/Bayern-Munich-Stats',\n",
       " 'https://fbref.com/en/squads/d609edc0/Internazionale-Stats',\n",
       " 'https://fbref.com/en/squads/e2d8892c/Paris-Saint-Germain-Stats',\n",
       " 'https://fbref.com/en/squads/53a2f082/Real-Madrid-Stats',\n",
       " 'https://fbref.com/en/squads/822bd0ba/Liverpool-Stats',\n",
       " 'https://fbref.com/en/squads/add600ae/Dortmund-Stats',\n",
       " 'https://fbref.com/en/squads/d48ad4ff/Napoli-Stats',\n",
       " 'https://fbref.com/en/squads/dc56fe14/Milan-Stats',\n",
       " 'https://fbref.com/en/squads/ad2be733/Sevilla-Stats',\n",
       " 'https://fbref.com/en/squads/cff3d9bb/Chelsea-Stats',\n",
       " 'https://fbref.com/en/squads/132ebc33/Nice-Stats',\n",
       " 'https://fbref.com/en/squads/922493f3/Atalanta-Stats',\n",
       " 'https://fbref.com/en/squads/5725cc7b/Marseille-Stats',\n",
       " 'https://fbref.com/en/squads/e0652b02/Juventus-Stats',\n",
       " 'https://fbref.com/en/squads/fc536746/Real-Betis-Stats',\n",
       " 'https://fbref.com/en/squads/361ca564/Tottenham-Hotspur-Stats',\n",
       " 'https://fbref.com/en/squads/c7a9f859/Bayer-Leverkusen-Stats',\n",
       " 'https://fbref.com/en/squads/19538871/Manchester-United-Stats',\n",
       " 'https://fbref.com/en/squads/db3b9613/Atletico-Madrid-Stats',\n",
       " 'https://fbref.com/en/squads/18bb7c10/Arsenal-Stats',\n",
       " 'https://fbref.com/en/squads/7a41008f/Union-Berlin-Stats',\n",
       " 'https://fbref.com/en/squads/206d90db/Barcelona-Stats',\n",
       " 'https://fbref.com/en/squads/a486e511/Freiburg-Stats',\n",
       " 'https://fbref.com/en/squads/cf74a709/Roma-Stats',\n",
       " 'https://fbref.com/en/squads/421387cf/Fiorentina-Stats',\n",
       " 'https://fbref.com/en/squads/8cec06e1/Wolverhampton-Wanderers-Stats',\n",
       " 'https://fbref.com/en/squads/e31d1cd9/Real-Sociedad-Stats',\n",
       " 'https://fbref.com/en/squads/7c21e445/West-Ham-United-Stats',\n",
       " 'https://fbref.com/en/squads/c0d3eab4/Strasbourg-Stats',\n",
       " 'https://fbref.com/en/squads/7213da33/Lazio-Stats',\n",
       " 'https://fbref.com/en/squads/b3072e00/Rennes-Stats',\n",
       " 'https://fbref.com/en/squads/acbb6a5b/RB-Leipzig-Stats',\n",
       " 'https://fbref.com/en/squads/033ea6b8/Hoffenheim-Stats',\n",
       " 'https://fbref.com/en/squads/281b0e73/Montpellier-Stats',\n",
       " 'https://fbref.com/en/squads/d53c0b06/Lyon-Stats',\n",
       " 'https://fbref.com/en/squads/fd6114db/Monaco-Stats',\n",
       " 'https://fbref.com/en/squads/fd4e0f7d/Lens-Stats',\n",
       " 'https://fbref.com/en/squads/98e8af82/Rayo-Vallecano-Stats',\n",
       " 'https://fbref.com/en/squads/2a8183b3/Villarreal-Stats',\n",
       " 'https://fbref.com/en/squads/105360fe/Torino-Stats',\n",
       " 'https://fbref.com/en/squads/d7a486cd/Nantes-Stats',\n",
       " 'https://fbref.com/en/squads/cb188c0c/Lille-Stats',\n",
       " 'https://fbref.com/en/squads/bc357bf7/Koln-Stats',\n",
       " 'https://fbref.com/en/squads/0e72edf2/Hellas-Verona-Stats',\n",
       " 'https://fbref.com/en/squads/2b390eca/Athletic-Club-Stats',\n",
       " 'https://fbref.com/en/squads/f0ac8ee6/Eintracht-Frankfurt-Stats',\n",
       " 'https://fbref.com/en/squads/69236f98/Angers-Stats',\n",
       " 'https://fbref.com/en/squads/d07537b9/Brighton-and-Hove-Albion-Stats',\n",
       " 'https://fbref.com/en/squads/a224b06a/Mainz-05-Stats',\n",
       " 'https://fbref.com/en/squads/dcc91a7b/Valencia-Stats',\n",
       " 'https://fbref.com/en/squads/a2d435b3/Leicester-City-Stats',\n",
       " 'https://fbref.com/en/squads/03c57e2b/Osasuna-Stats',\n",
       " 'https://fbref.com/en/squads/fb08dbb3/Brest-Stats',\n",
       " 'https://fbref.com/en/squads/e2befd26/Sassuolo-Stats',\n",
       " 'https://fbref.com/en/squads/a3d88bd8/Empoli-Stats',\n",
       " 'https://fbref.com/en/squads/8602292d/Aston-Villa-Stats',\n",
       " 'https://fbref.com/en/squads/f25da7fb/Celta-Vigo-Stats',\n",
       " 'https://fbref.com/en/squads/a8661628/Espanyol-Stats',\n",
       " 'https://fbref.com/en/squads/1d8099f8/Bologna-Stats',\n",
       " 'https://fbref.com/en/squads/b42c6323/Bochum-Stats',\n",
       " 'https://fbref.com/en/squads/33c895d4/Southampton-Stats',\n",
       " 'https://fbref.com/en/squads/32f3ee20/Monchengladbach-Stats',\n",
       " 'https://fbref.com/en/squads/2818f8bc/Hertha-BSC-Stats',\n",
       " 'https://fbref.com/en/squads/47c64c55/Crystal-Palace-Stats',\n",
       " 'https://fbref.com/en/squads/7fdd64e0/Reims-Stats',\n",
       " 'https://fbref.com/en/squads/04eea015/Udinese-Stats',\n",
       " 'https://fbref.com/en/squads/a0435291/Granada-Stats',\n",
       " 'https://fbref.com/en/squads/68449f6d/Spezia-Stats',\n",
       " 'https://fbref.com/en/squads/247c4b67/Arminia-Stats',\n",
       " 'https://fbref.com/en/squads/6c8b07df/Elche-Stats',\n",
       " 'https://fbref.com/en/squads/4eaa11d7/Wolfsburg-Stats',\n",
       " 'https://fbref.com/en/squads/5bfb9659/Leeds-United-Stats',\n",
       " 'https://fbref.com/en/squads/7848bd64/Getafe-Stats',\n",
       " 'https://fbref.com/en/squads/cd051869/Brentford-Stats',\n",
       " 'https://fbref.com/en/squads/d3fd31cc/Everton-Stats',\n",
       " 'https://fbref.com/en/squads/0cdc4311/Augsburg-Stats',\n",
       " 'https://fbref.com/en/squads/2aa12281/Mallorca-Stats',\n",
       " 'https://fbref.com/en/squads/d9676424/Clermont-Foot-Stats',\n",
       " 'https://fbref.com/en/squads/54195385/Troyes-Stats',\n",
       " 'https://fbref.com/en/squads/123f3efe/Bordeaux-Stats',\n",
       " 'https://fbref.com/en/squads/598bc722/Stuttgart-Stats',\n",
       " 'https://fbref.com/en/squads/8ff9e3b3/Sampdoria-Stats',\n",
       " 'https://fbref.com/en/squads/f83960ae/Metz-Stats',\n",
       " 'https://fbref.com/en/squads/ee7c297c/Cadiz-Stats',\n",
       " 'https://fbref.com/en/squads/af5d5982/Venezia-Stats',\n",
       " 'https://fbref.com/en/squads/8d6fd021/Alaves-Stats',\n",
       " 'https://fbref.com/en/squads/d2c87802/Lorient-Stats',\n",
       " 'https://fbref.com/en/squads/c4260e09/Cagliari-Stats',\n",
       " 'https://fbref.com/en/squads/1c781004/Norwich-City-Stats',\n",
       " 'https://fbref.com/en/squads/b2b47a98/Newcastle-United-Stats',\n",
       " 'https://fbref.com/en/squads/2abfe087/Watford-Stats',\n",
       " 'https://fbref.com/en/squads/943e8050/Burnley-Stats',\n",
       " 'https://fbref.com/en/squads/d298ef2c/Saint-Etienne-Stats',\n",
       " 'https://fbref.com/en/squads/658bf2de/Genoa-Stats',\n",
       " 'https://fbref.com/en/squads/9800b6a1/Levante-Stats',\n",
       " 'https://fbref.com/en/squads/12192a4c/Greuther-Furth-Stats',\n",
       " 'https://fbref.com/en/squads/c5577084/Salernitana-Stats']"
      ]
     },
     "execution_count": 13,
     "metadata": {},
     "output_type": "execute_result"
    }
   ],
   "source": [
    "result"
   ]
  },
  {
   "cell_type": "code",
   "execution_count": null,
   "metadata": {},
   "outputs": [],
   "source": []
  }
 ],
 "metadata": {
  "interpreter": {
   "hash": "903c6381022ce11ae579cb5a90d8a6f3bd5bf0e7eda2a8c44ca8e21e5da2e68b"
  },
  "kernelspec": {
   "display_name": "Python 3.8.12 64-bit ('DeepLearning': conda)",
   "language": "python",
   "name": "python3"
  },
  "language_info": {
   "codemirror_mode": {
    "name": "ipython",
    "version": 3
   },
   "file_extension": ".py",
   "mimetype": "text/x-python",
   "name": "python",
   "nbconvert_exporter": "python",
   "pygments_lexer": "ipython3",
   "version": "3.8.12"
  },
  "orig_nbformat": 4
 },
 "nbformat": 4,
 "nbformat_minor": 2
}
