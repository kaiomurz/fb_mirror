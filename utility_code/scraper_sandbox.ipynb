{
 "cells": [
  {
   "cell_type": "code",
   "execution_count": 18,
   "metadata": {},
   "outputs": [],
   "source": [
    "import shutil\n",
    "import requests\n",
    "from bs4 import BeautifulSoup\n",
    "from lxml import etree\n",
    "import pandas as pd\n",
    "import re\n",
    "import sys\n",
    "\n",
    "import random\n",
    "import time\n",
    "import threading\n",
    "import concurrent.futures"
   ]
  },
  {
   "cell_type": "code",
   "execution_count": 3,
   "metadata": {},
   "outputs": [],
   "source": [
    "# url = \"https://en.wikipedia.org/wiki/Lionel_Messi\"\n",
    "# url = \"https://en.wikipedia.org/wiki/Cristiano_Ronaldo\"\n",
    "# url = \"https://fbref.com/en/players/21a66f6a/Harry-Kane\"\n",
    "# url = \"https://en.wikipedia.org/wiki/Folarin_Balogun\"\n",
    "url = 'https://duckduckgo.com/?q=cristiano+ronaldo'\n",
    "soup = BeautifulSoup(requests.get(url).text, 'html.parser')"
   ]
  },
  {
   "cell_type": "code",
   "execution_count": 7,
   "metadata": {},
   "outputs": [],
   "source": [
    "def parse_club_urls(soup):\n",
    "    table = soup.find('tbody')\n",
    "    links = table.find_all('a')\n",
    "    club_urls = [\"https://fbref.com\" + link['href'] for link in links if 'squads' in link['href']]\n",
    "    return club_urls\n",
    "\n",
    "\n",
    "def get_club_urls():\n",
    "    url = 'https://fbref.com/en/comps/Big5/Big-5-European-Leagues-Stats'\n",
    "    soup = BeautifulSoup(requests.get(url).text, 'html.parser')\n",
    "    club_urls = parse_club_urls(soup)\n",
    "    return club_urls\n"
   ]
  },
  {
   "cell_type": "code",
   "execution_count": 12,
   "metadata": {},
   "outputs": [],
   "source": [
    "club_test_url = [club_urls[0]]"
   ]
  },
  {
   "cell_type": "code",
   "execution_count": 25,
   "metadata": {},
   "outputs": [],
   "source": [
    "# for single player \n",
    "def parse_player_url(soup):\n",
    "    global counter\n",
    "    global player_url_dict \n",
    "\n",
    "\n",
    "    table = soup.find('tbody')\n",
    "    links = table.find_all('a')\n",
    "    player_urls = [\"https://fbref.com\" + link['href']\\\n",
    "        for link in links if\\\n",
    "        'players' in link['href'] and\\\n",
    "        'matchlogs' not in link['href']]\n",
    "    \n",
    "    for url in player_urls:\n",
    "        counter += 1\n",
    "        player_url_dict[counter] = url\n",
    "\n",
    "\n",
    "\n",
    "def get_player_urls(club_url): #output should be a url\n",
    "    # time.sleep(2*random.random) #use throttle as class attribute\n",
    "    soup = BeautifulSoup(requests.get(club_url).text, 'html.parser')\n",
    "    parse_player_url(soup)\n",
    "\n",
    "with concurrent.futures.ThreadPoolExecutor(max_workers=3) as executor: \n",
    "    counter = 0\n",
    "    player_url_dict = {}\n",
    "    executor.map(get_player_urls, club_urls[:2])###remove slicing\n",
    "    \n"
   ]
  },
  {
   "cell_type": "code",
   "execution_count": 30,
   "metadata": {},
   "outputs": [
    {
     "data": {
      "text/plain": [
       "{}"
      ]
     },
     "execution_count": 30,
     "metadata": {},
     "output_type": "execute_result"
    }
   ],
   "source": [
    "player_url_dict"
   ]
  },
  {
   "cell_type": "code",
   "execution_count": 19,
   "metadata": {},
   "outputs": [
    {
     "data": {
      "text/plain": [
       "0.7779323196838405"
      ]
     },
     "execution_count": 19,
     "metadata": {},
     "output_type": "execute_result"
    }
   ],
   "source": [
    "random.random()"
   ]
  },
  {
   "cell_type": "code",
   "execution_count": null,
   "metadata": {},
   "outputs": [],
   "source": []
  }
 ],
 "metadata": {
  "interpreter": {
   "hash": "903c6381022ce11ae579cb5a90d8a6f3bd5bf0e7eda2a8c44ca8e21e5da2e68b"
  },
  "kernelspec": {
   "display_name": "Python 3.8.12 64-bit ('DeepLearning': conda)",
   "language": "python",
   "name": "python3"
  },
  "language_info": {
   "codemirror_mode": {
    "name": "ipython",
    "version": 3
   },
   "file_extension": ".py",
   "mimetype": "text/x-python",
   "name": "python",
   "nbconvert_exporter": "python",
   "pygments_lexer": "ipython3",
   "version": "3.8.12"
  },
  "orig_nbformat": 4
 },
 "nbformat": 4,
 "nbformat_minor": 2
}
