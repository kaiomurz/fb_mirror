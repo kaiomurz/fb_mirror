{
 "cells": [
  {
   "cell_type": "code",
   "execution_count": 1,
   "metadata": {},
   "outputs": [],
   "source": [
    "from abc import ABC, abstractmethod\n",
    "\n",
    "import shutil\n",
    "import requests\n",
    "from bs4 import BeautifulSoup\n",
    "from lxml import etree\n",
    "import pandas as pd\n",
    "import re\n",
    "import sys\n",
    "\n",
    "import random\n",
    "import time\n",
    "import threading\n",
    "import concurrent.futures"
   ]
  },
  {
   "cell_type": "code",
   "execution_count": 45,
   "metadata": {},
   "outputs": [],
   "source": [
    "# url = \"https://en.wikipedia.org/wiki/Lionel_Messi\"\n",
    "# url = \"https://en.wikipedia.org/wiki/Cristiano_Ronaldo\"\n",
    "# url = \"https://fbref.com/en/players/21a66f6a/Harry-Kane\"\n",
    "# url = \"https://en.wikipedia.org/wiki/Folarin_Balogun\"\n",
    "url = 'https://duckduckgo.com/?q=cristiano+ronaldo'\n",
    "soup = BeautifulSoup(requests.get(url).text, 'html.parser')"
   ]
  },
  {
   "cell_type": "code",
   "execution_count": 46,
   "metadata": {},
   "outputs": [],
   "source": [
    "def extract_club_urls(soup):\n",
    "    table = soup.find('tbody')\n",
    "    links = table.find_all('a')\n",
    "    club_urls = [\"https://fbref.com\" + link['href'] for link in links if 'squads' in link['href']]\n",
    "    return club_urls\n",
    "\n",
    "\n",
    "def get_club_urls():\n",
    "    url = 'https://fbref.com/en/comps/Big5/Big-5-European-Leagues-Stats'\n",
    "    soup = BeautifulSoup(requests.get(url).text, 'html.parser')\n",
    "    club_urls = extract_club_urls(soup)\n",
    "    return club_urls\n"
   ]
  },
  {
   "cell_type": "code",
   "execution_count": 5,
   "metadata": {},
   "outputs": [],
   "source": [
    "d = {1:{\"a\":1, \"b\":2}}"
   ]
  },
  {
   "cell_type": "code",
   "execution_count": 11,
   "metadata": {},
   "outputs": [
    {
     "data": {
      "text/html": [
       "<div>\n",
       "<style scoped>\n",
       "    .dataframe tbody tr th:only-of-type {\n",
       "        vertical-align: middle;\n",
       "    }\n",
       "\n",
       "    .dataframe tbody tr th {\n",
       "        vertical-align: top;\n",
       "    }\n",
       "\n",
       "    .dataframe thead th {\n",
       "        text-align: right;\n",
       "    }\n",
       "</style>\n",
       "<table border=\"1\" class=\"dataframe\">\n",
       "  <thead>\n",
       "    <tr style=\"text-align: right;\">\n",
       "      <th></th>\n",
       "      <th>a</th>\n",
       "      <th>b</th>\n",
       "    </tr>\n",
       "  </thead>\n",
       "  <tbody>\n",
       "    <tr>\n",
       "      <th>1</th>\n",
       "      <td>1</td>\n",
       "      <td>2</td>\n",
       "    </tr>\n",
       "  </tbody>\n",
       "</table>\n",
       "</div>"
      ],
      "text/plain": [
       "   a  b\n",
       "1  1  2"
      ]
     },
     "execution_count": 11,
     "metadata": {},
     "output_type": "execute_result"
    }
   ],
   "source": [
    "pd.DataFrame.from_dict(d, orient='index')"
   ]
  },
  {
   "cell_type": "code",
   "execution_count": 48,
   "metadata": {},
   "outputs": [],
   "source": [
    "# for single player \n",
    "def extract_player_urls(soup):\n",
    "    global counter\n",
    "    global player_url_dict \n",
    "\n",
    "\n",
    "    table = soup.find('tbody')\n",
    "    links = table.find_all('a')\n",
    "    player_urls = [\"https://fbref.com\" + link['href']\\\n",
    "        for link in links if\\\n",
    "        'players' in link['href'] and\\\n",
    "        'matchlogs' not in link['href']]\n",
    "    \n",
    "    for url in player_urls:\n",
    "        counter += 1\n",
    "        player_url_dict[counter] = url\n",
    "\n",
    "\n",
    "\n",
    "def get_player_urls(club_url): #output should be a url\n",
    "    time.sleep(2*random.random()) #use throttle as class attribute\n",
    "    soup = BeautifulSoup(requests.get(club_url).text, 'html.parser')\n",
    "    extract_player_urls(soup)\n",
    "\n",
    "with concurrent.futures.ThreadPoolExecutor(max_workers=3) as executor: \n",
    "    counter = 0\n",
    "    player_url_dict = {}\n",
    "    executor.map(get_player_urls, club_urls[:2])###remove slicing\n",
    "    \n"
   ]
  },
  {
   "cell_type": "code",
   "execution_count": null,
   "metadata": {},
   "outputs": [],
   "source": [
    "player_url_dict"
   ]
  },
  {
   "cell_type": "code",
   "execution_count": 1,
   "metadata": {},
   "outputs": [
    {
     "name": "stdout",
     "output_type": "stream",
     "text": [
      "Club URLs scraper\n",
      "Player URLs scraper\n",
      "in crawl https://fbref.com/en/comps/Big5/Big-5-European-Leagues-Stats\n",
      "going to extract\n",
      "extract data\n",
      "in crawl https://fbref.com/en/squads/b8fd03ef/Manchester-City-Stats\n",
      "going to extract\n",
      "in crawl https://fbref.com/en/squads/054efa67/Bayern-Munich-Stats\n",
      "going to extract\n"
     ]
    }
   ],
   "source": [
    "sys.path.append(\"../src\")\n",
    "\n",
    "from scrapers.fbref_scrapers import ClubURLsScraper, PlayerURLsScraper, PlayerStatsScraper\n",
    "import random\n",
    "\n",
    "club_urls_scraper = ClubURLsScraper()\n",
    "player_urls_scraper = PlayerURLsScraper()\n",
    "\n",
    "club_urls_scraper.run()\n",
    "player_urls_scraper.urls = club_urls_scraper.result[:2]\n",
    "# print(player_urls_scraper.urls)\n",
    "player_urls_scraper.run()\n",
    "# print(player_urls_scraper.result)\n",
    "\n",
    "\n"
   ]
  },
  {
   "cell_type": "code",
   "execution_count": 3,
   "metadata": {},
   "outputs": [
    {
     "name": "stdout",
     "output_type": "stream",
     "text": [
      "Player Stats scraper\n",
      "in crawl https://fbref.com/en/players/b400bde0/Raheem-Sterling\n"
     ]
    },
    {
     "ename": "NameError",
     "evalue": "name 'requests' is not defined",
     "output_type": "error",
     "traceback": [
      "\u001b[0;31m---------------------------------------------------------------------------\u001b[0m",
      "\u001b[0;31mNameError\u001b[0m                                 Traceback (most recent call last)",
      "\u001b[0;32m/tmp/ipykernel_220737/2599519216.py\u001b[0m in \u001b[0;36m<module>\u001b[0;34m\u001b[0m\n\u001b[1;32m      7\u001b[0m \u001b[0mpss\u001b[0m\u001b[0;34m.\u001b[0m\u001b[0murls_dict\u001b[0m \u001b[0;34m=\u001b[0m \u001b[0murls_dict\u001b[0m\u001b[0;34m\u001b[0m\u001b[0;34m\u001b[0m\u001b[0m\n\u001b[1;32m      8\u001b[0m \u001b[0mpss\u001b[0m\u001b[0;34m.\u001b[0m\u001b[0mset_urls\u001b[0m\u001b[0;34m(\u001b[0m\u001b[0;34m)\u001b[0m\u001b[0;34m\u001b[0m\u001b[0;34m\u001b[0m\u001b[0m\n\u001b[0;32m----> 9\u001b[0;31m \u001b[0mpss\u001b[0m\u001b[0;34m.\u001b[0m\u001b[0mrun\u001b[0m\u001b[0;34m(\u001b[0m\u001b[0;34m)\u001b[0m\u001b[0;34m\u001b[0m\u001b[0;34m\u001b[0m\u001b[0m\n\u001b[0m\u001b[1;32m     10\u001b[0m \u001b[0;31m# from scrapers.fbref_scrapers import ClubURLsScraper, PlayerURLsScraper, PlayerStatsScraper\u001b[0m\u001b[0;34m\u001b[0m\u001b[0;34m\u001b[0m\u001b[0;34m\u001b[0m\u001b[0m\n\u001b[1;32m     11\u001b[0m \u001b[0;31m# club_url_scraper = ClubURLsScraper()\u001b[0m\u001b[0;34m\u001b[0m\u001b[0;34m\u001b[0m\u001b[0;34m\u001b[0m\u001b[0m\n",
      "\u001b[0;32m~/Google Drive/Programming/AICore/web_scraping/fb_aggregator/utility_code/../src/scrapers/abstract_scraper.py\u001b[0m in \u001b[0;36mrun\u001b[0;34m(self)\u001b[0m\n\u001b[1;32m     22\u001b[0m         \u001b[0;31m#     executor.map(self.crawl, self.urls)\u001b[0m\u001b[0;34m\u001b[0m\u001b[0;34m\u001b[0m\u001b[0;34m\u001b[0m\u001b[0m\n\u001b[1;32m     23\u001b[0m         \u001b[0;32mfor\u001b[0m \u001b[0murl\u001b[0m \u001b[0;32min\u001b[0m \u001b[0mself\u001b[0m\u001b[0;34m.\u001b[0m\u001b[0murls\u001b[0m\u001b[0;34m:\u001b[0m\u001b[0;34m\u001b[0m\u001b[0;34m\u001b[0m\u001b[0m\n\u001b[0;32m---> 24\u001b[0;31m             \u001b[0mself\u001b[0m\u001b[0;34m.\u001b[0m\u001b[0mcrawl\u001b[0m\u001b[0;34m(\u001b[0m\u001b[0murl\u001b[0m\u001b[0;34m)\u001b[0m\u001b[0;34m\u001b[0m\u001b[0;34m\u001b[0m\u001b[0m\n\u001b[0m\u001b[1;32m     25\u001b[0m \u001b[0;34m\u001b[0m\u001b[0m\n\u001b[1;32m     26\u001b[0m     \u001b[0;32mdef\u001b[0m \u001b[0mcrawl\u001b[0m\u001b[0;34m(\u001b[0m\u001b[0mself\u001b[0m\u001b[0;34m,\u001b[0m \u001b[0murl\u001b[0m\u001b[0;34m)\u001b[0m\u001b[0;34m:\u001b[0m\u001b[0;34m\u001b[0m\u001b[0;34m\u001b[0m\u001b[0m\n",
      "\u001b[0;32m~/Google Drive/Programming/AICore/web_scraping/fb_aggregator/utility_code/../src/scrapers/fbref_scrapers.py\u001b[0m in \u001b[0;36mcrawl\u001b[0;34m(self, url)\u001b[0m\n\u001b[1;32m     59\u001b[0m         \u001b[0mprint\u001b[0m\u001b[0;34m(\u001b[0m\u001b[0;34m\"in crawl\"\u001b[0m\u001b[0;34m,\u001b[0m \u001b[0murl\u001b[0m\u001b[0;34m)\u001b[0m\u001b[0;34m\u001b[0m\u001b[0;34m\u001b[0m\u001b[0m\n\u001b[1;32m     60\u001b[0m         \u001b[0;31m# self.current_url = url\u001b[0m\u001b[0;34m\u001b[0m\u001b[0;34m\u001b[0m\u001b[0;34m\u001b[0m\u001b[0m\n\u001b[0;32m---> 61\u001b[0;31m         \u001b[0mself\u001b[0m\u001b[0;34m.\u001b[0m\u001b[0mhtml\u001b[0m \u001b[0;34m=\u001b[0m \u001b[0mrequests\u001b[0m\u001b[0;34m.\u001b[0m\u001b[0mget\u001b[0m\u001b[0;34m(\u001b[0m\u001b[0murl\u001b[0m\u001b[0;34m)\u001b[0m\u001b[0;34m.\u001b[0m\u001b[0mtext\u001b[0m\u001b[0;34m\u001b[0m\u001b[0;34m\u001b[0m\u001b[0m\n\u001b[0m\u001b[1;32m     62\u001b[0m         \u001b[0mself\u001b[0m\u001b[0;34m.\u001b[0m\u001b[0msoup\u001b[0m \u001b[0;34m=\u001b[0m \u001b[0mBeautifulSoup\u001b[0m\u001b[0;34m(\u001b[0m\u001b[0mself\u001b[0m\u001b[0;34m.\u001b[0m\u001b[0mhtml\u001b[0m\u001b[0;34m,\u001b[0m \u001b[0;34m'html.parser'\u001b[0m\u001b[0;34m)\u001b[0m\u001b[0;34m\u001b[0m\u001b[0;34m\u001b[0m\u001b[0m\n\u001b[1;32m     63\u001b[0m         \u001b[0mprint\u001b[0m\u001b[0;34m(\u001b[0m\u001b[0;34m\"going to extract\"\u001b[0m\u001b[0;34m)\u001b[0m\u001b[0;34m\u001b[0m\u001b[0;34m\u001b[0m\u001b[0m\n",
      "\u001b[0;31mNameError\u001b[0m: name 'requests' is not defined"
     ]
    }
   ],
   "source": [
    "import requests\n",
    "\n",
    "keys = random.sample(list(player_urls_scraper.result.keys()), 3)\n",
    "\n",
    "urls_dict = {key:player_urls_scraper.result[key] for key in keys}\n",
    "pss = PlayerStatsScraper()\n",
    "pss.urls_dict = urls_dict\n",
    "pss.set_urls()\n",
    "pss.run()\n",
    "# from scrapers.fbref_scrapers import ClubURLsScraper, PlayerURLsScraper, PlayerStatsScraper\n",
    "# club_url_scraper = ClubURLsScraper()\n",
    "# player_url_scraper = PlayerURLsScraper()\n",
    "# # club_url_scraper.urls = ['https://fbref.com/en/comps/Big5/Big-5-European-Leagues-Stats']"
   ]
  },
  {
   "cell_type": "code",
   "execution_count": 4,
   "metadata": {},
   "outputs": [
    {
     "data": {
      "text/plain": [
       "{}"
      ]
     },
     "execution_count": 4,
     "metadata": {},
     "output_type": "execute_result"
    }
   ],
   "source": [
    "pss.personal_info_dict"
   ]
  },
  {
   "cell_type": "code",
   "execution_count": null,
   "metadata": {},
   "outputs": [],
   "source": [
    "club_url_scraper.run()\n",
    "# club_url_scraper.result\n",
    "player_url_scraper.urls = club_url_scraper.result[:2]\n",
    "player_url_scraper.run()\n",
    "\n",
    "player_url_scraper.result"
   ]
  },
  {
   "cell_type": "code",
   "execution_count": 9,
   "metadata": {},
   "outputs": [
    {
     "name": "stdout",
     "output_type": "stream",
     "text": [
      "Player Stats scraper\n"
     ]
    }
   ],
   "source": [
    "keys = random.sample(list(player_url_scraper.result.keys()), 3)\n",
    "\n",
    "urls_dict = {key:player_url_scraper.result[key] for key in keys}\n",
    "pss = PlayerStatsScraper()\n",
    "pss.urls_dict = urls_dict\n",
    "pss.set_urls()"
   ]
  },
  {
   "cell_type": "code",
   "execution_count": 15,
   "metadata": {},
   "outputs": [
    {
     "name": "stdout",
     "output_type": "stream",
     "text": [
      "in crawl https://fbref.com/en/players/a5420709/Malik-Tillman\n",
      "in crawl https://fbref.com/en/players/b400bde0/Raheem-Sterling\n",
      "in crawl https://fbref.com/en/players/b66315ae/Gabriel-Jesus\n"
     ]
    }
   ],
   "source": [
    "# urls_dict = {1:2, 2:4}\n",
    "# list(urls_dict.keys())\n",
    "# pss.set_urls()\n",
    "# pss.urls \n",
    "pss.run()\n"
   ]
  },
  {
   "cell_type": "code",
   "execution_count": 16,
   "metadata": {},
   "outputs": [
    {
     "data": {
      "text/plain": [
       "{}"
      ]
     },
     "execution_count": 16,
     "metadata": {},
     "output_type": "execute_result"
    }
   ],
   "source": [
    "pss.personal_info_dict"
   ]
  },
  {
   "cell_type": "code",
   "execution_count": 9,
   "metadata": {},
   "outputs": [
    {
     "name": "stdout",
     "output_type": "stream",
     "text": [
      "inside loop https://fbref.com/en/players/8d78e732/Robert-Lewandowski\n",
      "inside loop https://fbref.com/en/players/3c6089ab/Thomas-Muller\n",
      "inside loop https://fbref.com/en/players/8778c910/Manuel-Neuer\n",
      "inside loop https://fbref.com/en/players/d781d855/Alphonso-Davies\n",
      "inside loop https://fbref.com/en/players/2b114be3/Leroy-Sane\n",
      "inside loop https://fbref.com/en/players/c3ee18ef/Lucas-Hernandez\n",
      "inside loop https://fbref.com/en/players/d248cd8f/Dayot-Upamecano\n",
      "inside loop https://fbref.com/en/players/49296448/Joshua-Kimmich\n",
      "inside loop https://fbref.com/en/players/88e357ef/Serge-Gnabry\n",
      "inside loop https://fbref.com/en/players/e33c06cf/Niklas-Sule\n",
      "inside loop https://fbref.com/en/players/45a03961/Benjamin-Pavard\n",
      "inside loop https://fbref.com/en/players/cc86b9a3/Leon-Goretzka\n",
      "inside loop https://fbref.com/en/players/2c0558b8/Jamal-Musiala\n",
      "inside loop https://fbref.com/en/players/042e8a49/Kingsley-Coman\n",
      "inside loop https://fbref.com/en/players/652d4c37/Corentin-Tolisso\n",
      "inside loop https://fbref.com/en/players/e280527c/Marcel-Sabitzer\n",
      "inside loop https://fbref.com/en/players/7ed08d5c/Josip-Stanisic\n",
      "inside loop https://fbref.com/en/players/da27e268/Marc-Roca\n",
      "inside loop https://fbref.com/en/players/f9b1b7bf/Omar-Richards\n",
      "inside loop https://fbref.com/en/players/5853ac44/Nianzou-Kouassi\n",
      "inside loop https://fbref.com/en/players/a5420709/Malik-Tillman\n",
      "inside loop https://fbref.com/en/players/7d3e7da6/Sven-Ulreich\n",
      "inside loop https://fbref.com/en/players/0e6bc38c/Eric-Maxim-Choupo-Moting\n",
      "inside loop https://fbref.com/en/players/1a4b9094/Bouna-Sarr\n",
      "inside loop https://fbref.com/en/players/cb64672e/Paul-Wanner\n",
      "inside loop https://fbref.com/en/players/8356931a/Lucas-Copado\n",
      "inside loop https://fbref.com/en/players/5722eced/Mickael-Cuisance\n",
      "inside loop https://fbref.com/en/players/0a3d6d2b/Chris-Richards\n",
      "inside loop https://fbref.com/en/players/1394bf42/Bright-Arrey-Mbi\n",
      "inside loop https://fbref.com/en/players/6d8ec5d5/Nicolas-Feldhahn\n",
      "inside loop https://fbref.com/en/players/1940be91/Christian-Fruchtl\n",
      "inside loop https://fbref.com/en/players/f5c4fd91/Arijon-Ibrahimovic\n",
      "inside loop https://fbref.com/en/players/d78d867d/Timo-Kern\n",
      "inside loop https://fbref.com/en/players/ab892a73/Jamie-Lawrence\n",
      "inside loop https://fbref.com/en/players/1774c547/Nemanja-Motika\n"
     ]
    }
   ],
   "source": [
    "counter = 0\n",
    "result = {}\n",
    "soup = player_url_scraper.soup\n",
    "table = soup.find('tbody')\n",
    "links = table.find_all('a')\n",
    "player_urls = [\"https://fbref.com\" + link['href']\\\n",
    "for link in links if\\\n",
    "'players' in link['href'] and\\\n",
    "'matchlogs' not in link['href']]\n",
    "for url in player_urls:### slicing for testing only. drop eventually.\n",
    "    print(\"inside loop\", url)\n",
    "    counter += 1\n",
    "    result[counter] = url"
   ]
  },
  {
   "cell_type": "code",
   "execution_count": 10,
   "metadata": {},
   "outputs": [
    {
     "data": {
      "text/plain": [
       "{1: 'https://fbref.com/en/players/8d78e732/Robert-Lewandowski',\n",
       " 2: 'https://fbref.com/en/players/3c6089ab/Thomas-Muller',\n",
       " 3: 'https://fbref.com/en/players/8778c910/Manuel-Neuer',\n",
       " 4: 'https://fbref.com/en/players/d781d855/Alphonso-Davies',\n",
       " 5: 'https://fbref.com/en/players/2b114be3/Leroy-Sane',\n",
       " 6: 'https://fbref.com/en/players/c3ee18ef/Lucas-Hernandez',\n",
       " 7: 'https://fbref.com/en/players/d248cd8f/Dayot-Upamecano',\n",
       " 8: 'https://fbref.com/en/players/49296448/Joshua-Kimmich',\n",
       " 9: 'https://fbref.com/en/players/88e357ef/Serge-Gnabry',\n",
       " 10: 'https://fbref.com/en/players/e33c06cf/Niklas-Sule',\n",
       " 11: 'https://fbref.com/en/players/45a03961/Benjamin-Pavard',\n",
       " 12: 'https://fbref.com/en/players/cc86b9a3/Leon-Goretzka',\n",
       " 13: 'https://fbref.com/en/players/2c0558b8/Jamal-Musiala',\n",
       " 14: 'https://fbref.com/en/players/042e8a49/Kingsley-Coman',\n",
       " 15: 'https://fbref.com/en/players/652d4c37/Corentin-Tolisso',\n",
       " 16: 'https://fbref.com/en/players/e280527c/Marcel-Sabitzer',\n",
       " 17: 'https://fbref.com/en/players/7ed08d5c/Josip-Stanisic',\n",
       " 18: 'https://fbref.com/en/players/da27e268/Marc-Roca',\n",
       " 19: 'https://fbref.com/en/players/f9b1b7bf/Omar-Richards',\n",
       " 20: 'https://fbref.com/en/players/5853ac44/Nianzou-Kouassi',\n",
       " 21: 'https://fbref.com/en/players/a5420709/Malik-Tillman',\n",
       " 22: 'https://fbref.com/en/players/7d3e7da6/Sven-Ulreich',\n",
       " 23: 'https://fbref.com/en/players/0e6bc38c/Eric-Maxim-Choupo-Moting',\n",
       " 24: 'https://fbref.com/en/players/1a4b9094/Bouna-Sarr',\n",
       " 25: 'https://fbref.com/en/players/cb64672e/Paul-Wanner',\n",
       " 26: 'https://fbref.com/en/players/8356931a/Lucas-Copado',\n",
       " 27: 'https://fbref.com/en/players/5722eced/Mickael-Cuisance',\n",
       " 28: 'https://fbref.com/en/players/0a3d6d2b/Chris-Richards',\n",
       " 29: 'https://fbref.com/en/players/1394bf42/Bright-Arrey-Mbi',\n",
       " 30: 'https://fbref.com/en/players/6d8ec5d5/Nicolas-Feldhahn',\n",
       " 31: 'https://fbref.com/en/players/1940be91/Christian-Fruchtl',\n",
       " 32: 'https://fbref.com/en/players/f5c4fd91/Arijon-Ibrahimovic',\n",
       " 33: 'https://fbref.com/en/players/d78d867d/Timo-Kern',\n",
       " 34: 'https://fbref.com/en/players/ab892a73/Jamie-Lawrence',\n",
       " 35: 'https://fbref.com/en/players/1774c547/Nemanja-Motika'}"
      ]
     },
     "execution_count": 10,
     "metadata": {},
     "output_type": "execute_result"
    }
   ],
   "source": [
    "result"
   ]
  },
  {
   "cell_type": "code",
   "execution_count": 6,
   "metadata": {},
   "outputs": [
    {
     "data": {
      "text/plain": [
       "'    def extract_data(self):\\n        print(\"extract data\")        \\n        table = self.soup.find(\\'tbody\\')\\n        links = table.find_all(\\'a\\')\\n        self.result = [\"https://fbref.com\" + link[\\'href\\'] for link in links if \\'squads\\' in link[\\'href\\']]\\n'"
      ]
     },
     "execution_count": 6,
     "metadata": {},
     "output_type": "execute_result"
    }
   ],
   "source": [
    "import inspect\n",
    "inspect.getsource(club_url_scraper.extract_data)"
   ]
  },
  {
   "cell_type": "code",
   "execution_count": 4,
   "metadata": {},
   "outputs": [],
   "source": [
    "f = club_url_scraper.save_result"
   ]
  },
  {
   "cell_type": "code",
   "execution_count": 5,
   "metadata": {},
   "outputs": [
    {
     "data": {
      "text/plain": [
       "\"    def save_result(self, file_name):## add parser file type (eg. csv, df) and functionality. maybe convert this to actual function?\\n        # pass\\n        pickle.dump(self.result,open(file_name,'wb'))\\n\""
      ]
     },
     "execution_count": 5,
     "metadata": {},
     "output_type": "execute_result"
    }
   ],
   "source": [
    "inspect.getsource(club_url_scraper.save_result)"
   ]
  },
  {
   "cell_type": "code",
   "execution_count": 6,
   "metadata": {},
   "outputs": [],
   "source": [
    "# club_url_scraper.save_result\n",
    "club_url_scraper.save_result(\"result.pickle\")"
   ]
  },
  {
   "cell_type": "code",
   "execution_count": 18,
   "metadata": {},
   "outputs": [
    {
     "data": {
      "text/plain": [
       "[1, 2]"
      ]
     },
     "execution_count": 18,
     "metadata": {},
     "output_type": "execute_result"
    }
   ],
   "source": [
    "l = []\n",
    "l += [1,2]\n",
    "l\n"
   ]
  },
  {
   "cell_type": "code",
   "execution_count": 12,
   "metadata": {},
   "outputs": [],
   "source": [
    "result = pickle.load(open(\"result.pickle\", \"rb\"))\n",
    "# import pickle"
   ]
  },
  {
   "cell_type": "code",
   "execution_count": 13,
   "metadata": {},
   "outputs": [
    {
     "data": {
      "text/plain": [
       "['https://fbref.com/en/squads/b8fd03ef/Manchester-City-Stats',\n",
       " 'https://fbref.com/en/squads/054efa67/Bayern-Munich-Stats',\n",
       " 'https://fbref.com/en/squads/d609edc0/Internazionale-Stats',\n",
       " 'https://fbref.com/en/squads/e2d8892c/Paris-Saint-Germain-Stats',\n",
       " 'https://fbref.com/en/squads/53a2f082/Real-Madrid-Stats',\n",
       " 'https://fbref.com/en/squads/822bd0ba/Liverpool-Stats',\n",
       " 'https://fbref.com/en/squads/add600ae/Dortmund-Stats',\n",
       " 'https://fbref.com/en/squads/d48ad4ff/Napoli-Stats',\n",
       " 'https://fbref.com/en/squads/dc56fe14/Milan-Stats',\n",
       " 'https://fbref.com/en/squads/ad2be733/Sevilla-Stats',\n",
       " 'https://fbref.com/en/squads/cff3d9bb/Chelsea-Stats',\n",
       " 'https://fbref.com/en/squads/132ebc33/Nice-Stats',\n",
       " 'https://fbref.com/en/squads/922493f3/Atalanta-Stats',\n",
       " 'https://fbref.com/en/squads/5725cc7b/Marseille-Stats',\n",
       " 'https://fbref.com/en/squads/e0652b02/Juventus-Stats',\n",
       " 'https://fbref.com/en/squads/fc536746/Real-Betis-Stats',\n",
       " 'https://fbref.com/en/squads/361ca564/Tottenham-Hotspur-Stats',\n",
       " 'https://fbref.com/en/squads/c7a9f859/Bayer-Leverkusen-Stats',\n",
       " 'https://fbref.com/en/squads/19538871/Manchester-United-Stats',\n",
       " 'https://fbref.com/en/squads/db3b9613/Atletico-Madrid-Stats',\n",
       " 'https://fbref.com/en/squads/18bb7c10/Arsenal-Stats',\n",
       " 'https://fbref.com/en/squads/7a41008f/Union-Berlin-Stats',\n",
       " 'https://fbref.com/en/squads/206d90db/Barcelona-Stats',\n",
       " 'https://fbref.com/en/squads/a486e511/Freiburg-Stats',\n",
       " 'https://fbref.com/en/squads/cf74a709/Roma-Stats',\n",
       " 'https://fbref.com/en/squads/421387cf/Fiorentina-Stats',\n",
       " 'https://fbref.com/en/squads/8cec06e1/Wolverhampton-Wanderers-Stats',\n",
       " 'https://fbref.com/en/squads/e31d1cd9/Real-Sociedad-Stats',\n",
       " 'https://fbref.com/en/squads/7c21e445/West-Ham-United-Stats',\n",
       " 'https://fbref.com/en/squads/c0d3eab4/Strasbourg-Stats',\n",
       " 'https://fbref.com/en/squads/7213da33/Lazio-Stats',\n",
       " 'https://fbref.com/en/squads/b3072e00/Rennes-Stats',\n",
       " 'https://fbref.com/en/squads/acbb6a5b/RB-Leipzig-Stats',\n",
       " 'https://fbref.com/en/squads/033ea6b8/Hoffenheim-Stats',\n",
       " 'https://fbref.com/en/squads/281b0e73/Montpellier-Stats',\n",
       " 'https://fbref.com/en/squads/d53c0b06/Lyon-Stats',\n",
       " 'https://fbref.com/en/squads/fd6114db/Monaco-Stats',\n",
       " 'https://fbref.com/en/squads/fd4e0f7d/Lens-Stats',\n",
       " 'https://fbref.com/en/squads/98e8af82/Rayo-Vallecano-Stats',\n",
       " 'https://fbref.com/en/squads/2a8183b3/Villarreal-Stats',\n",
       " 'https://fbref.com/en/squads/105360fe/Torino-Stats',\n",
       " 'https://fbref.com/en/squads/d7a486cd/Nantes-Stats',\n",
       " 'https://fbref.com/en/squads/cb188c0c/Lille-Stats',\n",
       " 'https://fbref.com/en/squads/bc357bf7/Koln-Stats',\n",
       " 'https://fbref.com/en/squads/0e72edf2/Hellas-Verona-Stats',\n",
       " 'https://fbref.com/en/squads/2b390eca/Athletic-Club-Stats',\n",
       " 'https://fbref.com/en/squads/f0ac8ee6/Eintracht-Frankfurt-Stats',\n",
       " 'https://fbref.com/en/squads/69236f98/Angers-Stats',\n",
       " 'https://fbref.com/en/squads/d07537b9/Brighton-and-Hove-Albion-Stats',\n",
       " 'https://fbref.com/en/squads/a224b06a/Mainz-05-Stats',\n",
       " 'https://fbref.com/en/squads/dcc91a7b/Valencia-Stats',\n",
       " 'https://fbref.com/en/squads/a2d435b3/Leicester-City-Stats',\n",
       " 'https://fbref.com/en/squads/03c57e2b/Osasuna-Stats',\n",
       " 'https://fbref.com/en/squads/fb08dbb3/Brest-Stats',\n",
       " 'https://fbref.com/en/squads/e2befd26/Sassuolo-Stats',\n",
       " 'https://fbref.com/en/squads/a3d88bd8/Empoli-Stats',\n",
       " 'https://fbref.com/en/squads/8602292d/Aston-Villa-Stats',\n",
       " 'https://fbref.com/en/squads/f25da7fb/Celta-Vigo-Stats',\n",
       " 'https://fbref.com/en/squads/a8661628/Espanyol-Stats',\n",
       " 'https://fbref.com/en/squads/1d8099f8/Bologna-Stats',\n",
       " 'https://fbref.com/en/squads/b42c6323/Bochum-Stats',\n",
       " 'https://fbref.com/en/squads/33c895d4/Southampton-Stats',\n",
       " 'https://fbref.com/en/squads/32f3ee20/Monchengladbach-Stats',\n",
       " 'https://fbref.com/en/squads/2818f8bc/Hertha-BSC-Stats',\n",
       " 'https://fbref.com/en/squads/47c64c55/Crystal-Palace-Stats',\n",
       " 'https://fbref.com/en/squads/7fdd64e0/Reims-Stats',\n",
       " 'https://fbref.com/en/squads/04eea015/Udinese-Stats',\n",
       " 'https://fbref.com/en/squads/a0435291/Granada-Stats',\n",
       " 'https://fbref.com/en/squads/68449f6d/Spezia-Stats',\n",
       " 'https://fbref.com/en/squads/247c4b67/Arminia-Stats',\n",
       " 'https://fbref.com/en/squads/6c8b07df/Elche-Stats',\n",
       " 'https://fbref.com/en/squads/4eaa11d7/Wolfsburg-Stats',\n",
       " 'https://fbref.com/en/squads/5bfb9659/Leeds-United-Stats',\n",
       " 'https://fbref.com/en/squads/7848bd64/Getafe-Stats',\n",
       " 'https://fbref.com/en/squads/cd051869/Brentford-Stats',\n",
       " 'https://fbref.com/en/squads/d3fd31cc/Everton-Stats',\n",
       " 'https://fbref.com/en/squads/0cdc4311/Augsburg-Stats',\n",
       " 'https://fbref.com/en/squads/2aa12281/Mallorca-Stats',\n",
       " 'https://fbref.com/en/squads/d9676424/Clermont-Foot-Stats',\n",
       " 'https://fbref.com/en/squads/54195385/Troyes-Stats',\n",
       " 'https://fbref.com/en/squads/123f3efe/Bordeaux-Stats',\n",
       " 'https://fbref.com/en/squads/598bc722/Stuttgart-Stats',\n",
       " 'https://fbref.com/en/squads/8ff9e3b3/Sampdoria-Stats',\n",
       " 'https://fbref.com/en/squads/f83960ae/Metz-Stats',\n",
       " 'https://fbref.com/en/squads/ee7c297c/Cadiz-Stats',\n",
       " 'https://fbref.com/en/squads/af5d5982/Venezia-Stats',\n",
       " 'https://fbref.com/en/squads/8d6fd021/Alaves-Stats',\n",
       " 'https://fbref.com/en/squads/d2c87802/Lorient-Stats',\n",
       " 'https://fbref.com/en/squads/c4260e09/Cagliari-Stats',\n",
       " 'https://fbref.com/en/squads/1c781004/Norwich-City-Stats',\n",
       " 'https://fbref.com/en/squads/b2b47a98/Newcastle-United-Stats',\n",
       " 'https://fbref.com/en/squads/2abfe087/Watford-Stats',\n",
       " 'https://fbref.com/en/squads/943e8050/Burnley-Stats',\n",
       " 'https://fbref.com/en/squads/d298ef2c/Saint-Etienne-Stats',\n",
       " 'https://fbref.com/en/squads/658bf2de/Genoa-Stats',\n",
       " 'https://fbref.com/en/squads/9800b6a1/Levante-Stats',\n",
       " 'https://fbref.com/en/squads/12192a4c/Greuther-Furth-Stats',\n",
       " 'https://fbref.com/en/squads/c5577084/Salernitana-Stats']"
      ]
     },
     "execution_count": 13,
     "metadata": {},
     "output_type": "execute_result"
    }
   ],
   "source": [
    "result"
   ]
  },
  {
   "cell_type": "code",
   "execution_count": null,
   "metadata": {},
   "outputs": [],
   "source": []
  }
 ],
 "metadata": {
  "interpreter": {
   "hash": "903c6381022ce11ae579cb5a90d8a6f3bd5bf0e7eda2a8c44ca8e21e5da2e68b"
  },
  "kernelspec": {
   "display_name": "Python 3.8.12 64-bit ('DeepLearning': conda)",
   "language": "python",
   "name": "python3"
  },
  "language_info": {
   "codemirror_mode": {
    "name": "ipython",
    "version": 3
   },
   "file_extension": ".py",
   "mimetype": "text/x-python",
   "name": "python",
   "nbconvert_exporter": "python",
   "pygments_lexer": "ipython3",
   "version": "3.8.12"
  },
  "orig_nbformat": 4
 },
 "nbformat": 4,
 "nbformat_minor": 2
}
