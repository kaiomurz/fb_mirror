{
 "cells": [
  {
   "cell_type": "code",
   "execution_count": 25,
   "metadata": {},
   "outputs": [],
   "source": [
    "from abc import ABC, abstractmethod\n",
    "\n",
    "import shutil\n",
    "import requests\n",
    "from bs4 import BeautifulSoup\n",
    "from lxml import etree\n",
    "import pandas as pd\n",
    "import re\n",
    "import sys\n",
    "import json\n",
    "\n",
    "import random\n",
    "import time\n",
    "import threading\n",
    "import concurrent.futures"
   ]
  },
  {
   "cell_type": "code",
   "execution_count": 45,
   "metadata": {},
   "outputs": [],
   "source": [
    "# url = \"https://en.wikipedia.org/wiki/Lionel_Messi\"\n",
    "# url = \"https://en.wikipedia.org/wiki/Cristiano_Ronaldo\"\n",
    "# url = \"https://fbref.com/en/players/21a66f6a/Harry-Kane\"\n",
    "# url = \"https://en.wikipedia.org/wiki/Folarin_Balogun\"\n",
    "url = 'https://duckduckgo.com/?q=cristiano+ronaldo'\n",
    "soup = BeautifulSoup(requests.get(url).text, 'html.parser')"
   ]
  },
  {
   "cell_type": "code",
   "execution_count": 30,
   "metadata": {},
   "outputs": [
    {
     "name": "stdout",
     "output_type": "stream",
     "text": [
      "<bound method Response.json of <Response [200]>>\n"
     ]
    }
   ],
   "source": [
    "url = 'https://api.duckduckgo.com/?q=cristiano%20ronaldo&format=json&pretty=1'\n",
    "response = requests.get(url)\n",
    "print(response.json)\n",
    "# soup = BeautifulSoup(requests.get(url).text, 'html.parser')\n",
    "# ddg_dict = soup.body\n",
    "\n"
   ]
  },
  {
   "cell_type": "code",
   "execution_count": 35,
   "metadata": {},
   "outputs": [
    {
     "data": {
      "text/plain": [
       "True"
      ]
     },
     "execution_count": 35,
     "metadata": {},
     "output_type": "execute_result"
    }
   ],
   "source": [
    "\"footballer\" in response.text"
   ]
  },
  {
   "cell_type": "code",
   "execution_count": 37,
   "metadata": {},
   "outputs": [
    {
     "data": {
      "text/plain": [
       "'https://en.wikipedia.org/wiki/Cristiano_Ronaldo'"
      ]
     },
     "execution_count": 37,
     "metadata": {},
     "output_type": "execute_result"
    }
   ],
   "source": [
    "response.json()[\"AbstractURL\"]"
   ]
  },
  {
   "cell_type": "code",
   "execution_count": 27,
   "metadata": {},
   "outputs": [],
   "source": [
    "ddg_json = json.loads(soup.text)"
   ]
  },
  {
   "cell_type": "code",
   "execution_count": 28,
   "metadata": {},
   "outputs": [
    {
     "data": {
      "text/plain": [
       "\"Cristiano Ronaldo dos Santos Aveiro is a Portuguese professional footballer who plays as a forward for Premier League club Manchester United and captains the Portugal national team. Often considered the best player in the world and widely regarded as one of the greatest players of all time, Ronaldo has won five Ballon d'Or awards and four European Golden Shoes, the most by a European player. He has won 32 trophies in his career, including seven league titles, five UEFA Champions Leagues, one UEFA European Championship and one UEFA Nations League. Ronaldo holds the records for most appearances, most goals and assists in the Champions League, most goals in the European Championship, most international goals by a male player, and most international appearances by a European male. He is one of the few players to have made over 1,100 professional career appearances, and has scored over 800 official senior career goals for club and country.\""
      ]
     },
     "execution_count": 28,
     "metadata": {},
     "output_type": "execute_result"
    }
   ],
   "source": [
    "ddg_json[\"Abstract\"]"
   ]
  },
  {
   "cell_type": "code",
   "execution_count": 66,
   "metadata": {},
   "outputs": [
    {
     "data": {
      "text/plain": [
       "{10: 'No footballer reference'}"
      ]
     },
     "execution_count": 66,
     "metadata": {},
     "output_type": "execute_result"
    }
   ],
   "source": [
    "name = \"Fabinho\"\n",
    "name = \"Cristiano Ronald\" #check for spelling errors\n",
    "# name = \"fred\"\n",
    "\n",
    "\n",
    "url = f'https://api.duckduckgo.com/?q={name}&format=json&pretty=1'\n",
    "response = requests.get(url)\n",
    "response_json = response.json()\n",
    "response_html = response.text\n",
    "url_dict = {}\n",
    "player_id = 10\n",
    "\n",
    "if \"footballer\" not in response.text:\n",
    "    url_dict[player_id]=  \"No footballer reference\"\n",
    "elif \"footballer\" in response_json[\"RelatedTopics\"][0][\"FirstURL\"]:\n",
    "    url_dict[player_id] = response_json[\"RelatedTopics\"][0][\"FirstURL\"].replace(\"duckduckgo.com\", \"en.wikipedia.org/wiki/\")\n",
    "\n",
    "elif \"footballer\" in response_html:\n",
    "    abstract_url = response_json[\"AbstractURL\"]\n",
    "    if \"wikipedia\" in abstract_url:\n",
    "        url_dict[player_id]=  abstract_url\n",
    "    else:\n",
    "        url_dict[player_id]=  \"No wiki link\"\n",
    "else:\n",
    "    url_dict[player_id]=  \"Unknown error\"\n",
    "\n",
    "url_dict"
   ]
  },
  {
   "cell_type": "code",
   "execution_count": 57,
   "metadata": {},
   "outputs": [],
   "source": [
    "if \"footballer\" in response_json[\"RelatedTopics\"][0][\"FirstURL\"]:\n",
    "    url_dict[player_id] = response_json[\"RelatedTopics\"][0][\"FirstURL\"].replace(\"duckduckgo.com\", \"en.wikipedia.org/wiki/\")\n",
    "# response_json[\"AbstractURL\"]\n",
    "\n"
   ]
  },
  {
   "cell_type": "code",
   "execution_count": 58,
   "metadata": {},
   "outputs": [
    {
     "data": {
      "text/plain": [
       "{10: 'https://en.wikipedia.org/wiki//Fabinho_(footballer%2C_born_1993)'}"
      ]
     },
     "execution_count": 58,
     "metadata": {},
     "output_type": "execute_result"
    }
   ],
   "source": [
    "url_dict"
   ]
  },
  {
   "cell_type": "code",
   "execution_count": null,
   "metadata": {},
   "outputs": [],
   "source": []
  }
 ],
 "metadata": {
  "interpreter": {
   "hash": "903c6381022ce11ae579cb5a90d8a6f3bd5bf0e7eda2a8c44ca8e21e5da2e68b"
  },
  "kernelspec": {
   "display_name": "Python 3.8.12 64-bit ('DeepLearning': conda)",
   "language": "python",
   "name": "python3"
  },
  "language_info": {
   "codemirror_mode": {
    "name": "ipython",
    "version": 3
   },
   "file_extension": ".py",
   "mimetype": "text/x-python",
   "name": "python",
   "nbconvert_exporter": "python",
   "pygments_lexer": "ipython3",
   "version": "3.8.12"
  },
  "orig_nbformat": 4
 },
 "nbformat": 4,
 "nbformat_minor": 2
}
