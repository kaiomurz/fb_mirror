{
 "cells": [
  {
   "cell_type": "code",
   "execution_count": 140,
   "metadata": {},
   "outputs": [],
   "source": [
    "from abc import ABC, abstractmethod\n",
    "\n",
    "import shutil\n",
    "import requests\n",
    "from bs4 import BeautifulSoup\n",
    "from lxml import etree\n",
    "import pandas as pd\n",
    "import re\n",
    "import sys\n",
    "import json\n",
    "\n",
    "import random\n",
    "import time\n",
    "import threading\n",
    "import concurrent.futures\n",
    "\n",
    "\n"
   ]
  },
  {
   "cell_type": "code",
   "execution_count": 181,
   "metadata": {},
   "outputs": [],
   "source": [
    "import asyncio\n",
    "from playwright.async_api import async_playwright\n",
    "playwright = await async_playwright().start()\n",
    "browser = await playwright.chromium.launch(headless=False)\n",
    "page = await browser.new_page()\n",
    "await page.goto(\"https://www.espn.co.uk/football/\")\n",
    "\n",
    "await page.locator(\"text=Continue without Accepting\").click()\n",
    "\n",
    "await page.locator(\"id=global-search-trigger\").click()\n",
    "await page.locator(\"id=global-search-input\").fill(\"Lionel Messi\")\n",
    "await page.locator(\"//html/body/div[5]/div[2]/header/div[2]/ul/li[1]/div/div[1]/input[2]\").click()\n",
    "# await page.wait_for_timeout(5000)\n",
    "html = await page.content()\n",
    "soup = BeautifulSoup(html, 'html.parser')\n",
    "\n",
    "# soup \n",
    "\n",
    "# await page.locator(\"class=btn-search\").press('Enter')\n",
    "\n",
    "# page.click('button#onetrust-close-btn-handler banner-close-button')\n",
    "# page.on('dialog:ot-sdk-container', lambda dialog: dialog.accept())\n",
    "# page.click('button#onetrust-accept-btn-handler', force=True)\n",
    "# /html/body/div[5]/div[2]/header/div[2]/ul/li[1]/div/div[1]/input[2]\n",
    "\n",
    "\n",
    "#onetrust-close-btn-container > button\n",
    "\n",
    "# print(clicked)"
   ]
  },
  {
   "cell_type": "code",
   "execution_count": 172,
   "metadata": {},
   "outputs": [],
   "source": [
    "# html = requests.get('https://www.espn.co.uk/search/_/q/lionel%20messi').text\n",
    "\n",
    "# soup1 = BeautifulSoup(html, 'html.parser')\n",
    "news_divs = soup.find_all(\"li\", class_=\"article__Results__Item\")"
   ]
  },
  {
   "cell_type": "code",
   "execution_count": 177,
   "metadata": {},
   "outputs": [
    {
     "name": "stdout",
     "output_type": "stream",
     "text": [
      "Lionel Messi hits 300m Instagram followers, but he's still a long way beh…5dESPN\n",
      "/football/blog-the-toe-poke/story/4579914/lionel-messi-hits-300m-instagram-followersbut-hes-still-a-long-way-behind-cristiano-ronaldo\n",
      "Lionel Messi left out of Argentina squad to build match fitness amid COVID-19…13dAdriana Garcia\n",
      "/football/argentina-arg/story/4573333/lionel-messi-left-out-of-argentina-squad-to-build-match-fitness-amid-covid-19-recovery\n",
      "Lionel Messi's evolution at PSG: After 20 years, is he finally learning not to do it…14dRyan O'Hanlon\n",
      "/football/sports/soccer/insider/story?id=33091412&_slug_=lionel-messi-evolution-psg-20-years-learning-not-do-all-himself\n",
      "Liverpool's Mohamed Salah can match Cristiano Ronaldo, Lionel Messi longe…20dAramide Oladipo\n",
      "/football/liverpool-engliverpool/story/4568057/liverpools-mohamed-salah-can-match-cristiano-ronaldo-lionel-messi-longevity-levels-jurgen-klopp\n"
     ]
    }
   ],
   "source": [
    "news_list = []\n",
    "for div in news_divs:\n",
    "    news_list.append((div.text,div.find('a')['href']))\n",
    "    print(div.text)\n",
    "    link = div.find('a')\n",
    "    print(link['href'])"
   ]
  },
  {
   "cell_type": "code",
   "execution_count": 178,
   "metadata": {},
   "outputs": [
    {
     "data": {
      "text/plain": [
       "[(\"Lionel Messi hits 300m Instagram followers, but he's still a long way beh…5dESPN\",\n",
       "  '/football/blog-the-toe-poke/story/4579914/lionel-messi-hits-300m-instagram-followersbut-hes-still-a-long-way-behind-cristiano-ronaldo'),\n",
       " ('Lionel Messi left out of Argentina squad to build match fitness amid COVID-19…13dAdriana Garcia',\n",
       "  '/football/argentina-arg/story/4573333/lionel-messi-left-out-of-argentina-squad-to-build-match-fitness-amid-covid-19-recovery'),\n",
       " (\"Lionel Messi's evolution at PSG: After 20 years, is he finally learning not to do it…14dRyan O'Hanlon\",\n",
       "  '/football/sports/soccer/insider/story?id=33091412&_slug_=lionel-messi-evolution-psg-20-years-learning-not-do-all-himself'),\n",
       " (\"Liverpool's Mohamed Salah can match Cristiano Ronaldo, Lionel Messi longe…20dAramide Oladipo\",\n",
       "  '/football/liverpool-engliverpool/story/4568057/liverpools-mohamed-salah-can-match-cristiano-ronaldo-lionel-messi-longevity-levels-jurgen-klopp')]"
      ]
     },
     "execution_count": 178,
     "metadata": {},
     "output_type": "execute_result"
    }
   ],
   "source": [
    "news_list"
   ]
  },
  {
   "cell_type": "code",
   "execution_count": 182,
   "metadata": {},
   "outputs": [],
   "source": [
    "# await page.locator(\"class=btn-search\").click()\n",
    "\n",
    "await browser.close()\n",
    "await playwright.stop()\n",
    "# await page.locator(\"id=global-search-input\").fill(\"Lionel Messi\")\n",
    "\n",
    "#<input id=\"global-search-input\" type=\"text\" class=\"search-box\" placeholder=\"Search Sports, Teams or Players...\">"
   ]
  },
  {
   "cell_type": "code",
   "execution_count": 136,
   "metadata": {},
   "outputs": [
    {
     "name": "stderr",
     "output_type": "stream",
     "text": [
      "/tmp/ipykernel_25681/401566336.py:5: DeprecationWarning: find_element_by_* commands are deprecated. Please use find_element() instead\n",
      "  driver.find_element_by_xpath(\"//*[contains(text(), 'Continue without Accepting')]\").click()\n",
      "/tmp/ipykernel_25681/401566336.py:13: DeprecationWarning: find_element_by_* commands are deprecated. Please use find_element() instead\n",
      "  driver.find_element_by_xpath('//*[@id=\"global-search-trigger\"]').click()\n"
     ]
    },
    {
     "ename": "StaleElementReferenceException",
     "evalue": "Message: stale element reference: element is not attached to the page document\n  (Session info: MicrosoftEdge=97.0.1072.69)\nStacktrace:\n#0 0x557692e7d413 <unknown>\n#1 0x5576928f6b83 <unknown>\n#2 0x5576928f9b7d <unknown>\n#3 0x5576928f9979 <unknown>\n#4 0x5576928f9c37 <unknown>\n#5 0x557692930ed7 <unknown>\n#6 0x557692925459 <unknown>\n#7 0x55769294ca02 <unknown>\n#8 0x557692924d84 <unknown>\n#9 0x55769294cc2e <unknown>\n#10 0x557692962e16 <unknown>\n#11 0x55769294c8f3 <unknown>\n#12 0x557692923704 <unknown>\n#13 0x557692924905 <unknown>\n#14 0x557692ea70f7 <unknown>\n#15 0x557692eb60df <unknown>\n#16 0x557692eb5e59 <unknown>\n#17 0x557692eb6462 <unknown>\n#18 0x557692ea815b <unknown>\n#19 0x557692eb6723 <unknown>\n#20 0x557692e9e305 <unknown>\n#21 0x557692eccca8 <unknown>\n#22 0x557692ecce58 <unknown>\n#23 0x557692ee784a <unknown>\n#24 0x7fbf318d3609 <unknown>\n",
     "output_type": "error",
     "traceback": [
      "\u001b[0;31m---------------------------------------------------------------------------\u001b[0m",
      "\u001b[0;31mStaleElementReferenceException\u001b[0m            Traceback (most recent call last)",
      "\u001b[0;32m/tmp/ipykernel_25681/401566336.py\u001b[0m in \u001b[0;36m<module>\u001b[0;34m\u001b[0m\n\u001b[1;32m     11\u001b[0m \u001b[0;31m# driver.find_element_by_xpath(\"//*[@id='global-search-trigger')]\").click()\u001b[0m\u001b[0;34m\u001b[0m\u001b[0;34m\u001b[0m\u001b[0;34m\u001b[0m\u001b[0m\n\u001b[1;32m     12\u001b[0m \u001b[0;34m\u001b[0m\u001b[0m\n\u001b[0;32m---> 13\u001b[0;31m \u001b[0mdriver\u001b[0m\u001b[0;34m.\u001b[0m\u001b[0mfind_element_by_xpath\u001b[0m\u001b[0;34m(\u001b[0m\u001b[0;34m'//*[@id=\"global-search-trigger\"]'\u001b[0m\u001b[0;34m)\u001b[0m\u001b[0;34m.\u001b[0m\u001b[0mclick\u001b[0m\u001b[0;34m(\u001b[0m\u001b[0;34m)\u001b[0m\u001b[0;34m\u001b[0m\u001b[0;34m\u001b[0m\u001b[0m\n\u001b[0m\u001b[1;32m     14\u001b[0m \u001b[0;34m\u001b[0m\u001b[0m\n\u001b[1;32m     15\u001b[0m \u001b[0;31m# search = driver.find_element_by_id('global-search-trigger')#.click()\u001b[0m\u001b[0;34m\u001b[0m\u001b[0;34m\u001b[0m\u001b[0;34m\u001b[0m\u001b[0m\n",
      "\u001b[0;32m~/miniconda3/envs/DeepLearning/lib/python3.8/site-packages/selenium/webdriver/remote/webelement.py\u001b[0m in \u001b[0;36mclick\u001b[0;34m(self)\u001b[0m\n\u001b[1;32m     79\u001b[0m     \u001b[0;32mdef\u001b[0m \u001b[0mclick\u001b[0m\u001b[0;34m(\u001b[0m\u001b[0mself\u001b[0m\u001b[0;34m)\u001b[0m \u001b[0;34m->\u001b[0m \u001b[0;32mNone\u001b[0m\u001b[0;34m:\u001b[0m\u001b[0;34m\u001b[0m\u001b[0;34m\u001b[0m\u001b[0m\n\u001b[1;32m     80\u001b[0m         \u001b[0;34m\"\"\"Clicks the element.\"\"\"\u001b[0m\u001b[0;34m\u001b[0m\u001b[0;34m\u001b[0m\u001b[0m\n\u001b[0;32m---> 81\u001b[0;31m         \u001b[0mself\u001b[0m\u001b[0;34m.\u001b[0m\u001b[0m_execute\u001b[0m\u001b[0;34m(\u001b[0m\u001b[0mCommand\u001b[0m\u001b[0;34m.\u001b[0m\u001b[0mCLICK_ELEMENT\u001b[0m\u001b[0;34m)\u001b[0m\u001b[0;34m\u001b[0m\u001b[0;34m\u001b[0m\u001b[0m\n\u001b[0m\u001b[1;32m     82\u001b[0m \u001b[0;34m\u001b[0m\u001b[0m\n\u001b[1;32m     83\u001b[0m     \u001b[0;32mdef\u001b[0m \u001b[0msubmit\u001b[0m\u001b[0;34m(\u001b[0m\u001b[0mself\u001b[0m\u001b[0;34m)\u001b[0m\u001b[0;34m:\u001b[0m\u001b[0;34m\u001b[0m\u001b[0;34m\u001b[0m\u001b[0m\n",
      "\u001b[0;32m~/miniconda3/envs/DeepLearning/lib/python3.8/site-packages/selenium/webdriver/remote/webelement.py\u001b[0m in \u001b[0;36m_execute\u001b[0;34m(self, command, params)\u001b[0m\n\u001b[1;32m    708\u001b[0m             \u001b[0mparams\u001b[0m \u001b[0;34m=\u001b[0m \u001b[0;34m{\u001b[0m\u001b[0;34m}\u001b[0m\u001b[0;34m\u001b[0m\u001b[0;34m\u001b[0m\u001b[0m\n\u001b[1;32m    709\u001b[0m         \u001b[0mparams\u001b[0m\u001b[0;34m[\u001b[0m\u001b[0;34m'id'\u001b[0m\u001b[0;34m]\u001b[0m \u001b[0;34m=\u001b[0m \u001b[0mself\u001b[0m\u001b[0;34m.\u001b[0m\u001b[0m_id\u001b[0m\u001b[0;34m\u001b[0m\u001b[0;34m\u001b[0m\u001b[0m\n\u001b[0;32m--> 710\u001b[0;31m         \u001b[0;32mreturn\u001b[0m \u001b[0mself\u001b[0m\u001b[0;34m.\u001b[0m\u001b[0m_parent\u001b[0m\u001b[0;34m.\u001b[0m\u001b[0mexecute\u001b[0m\u001b[0;34m(\u001b[0m\u001b[0mcommand\u001b[0m\u001b[0;34m,\u001b[0m \u001b[0mparams\u001b[0m\u001b[0;34m)\u001b[0m\u001b[0;34m\u001b[0m\u001b[0;34m\u001b[0m\u001b[0m\n\u001b[0m\u001b[1;32m    711\u001b[0m \u001b[0;34m\u001b[0m\u001b[0m\n\u001b[1;32m    712\u001b[0m     \u001b[0;32mdef\u001b[0m \u001b[0mfind_element\u001b[0m\u001b[0;34m(\u001b[0m\u001b[0mself\u001b[0m\u001b[0;34m,\u001b[0m \u001b[0mby\u001b[0m\u001b[0;34m=\u001b[0m\u001b[0mBy\u001b[0m\u001b[0;34m.\u001b[0m\u001b[0mID\u001b[0m\u001b[0;34m,\u001b[0m \u001b[0mvalue\u001b[0m\u001b[0;34m=\u001b[0m\u001b[0;32mNone\u001b[0m\u001b[0;34m)\u001b[0m\u001b[0;34m:\u001b[0m\u001b[0;34m\u001b[0m\u001b[0;34m\u001b[0m\u001b[0m\n",
      "\u001b[0;32m~/miniconda3/envs/DeepLearning/lib/python3.8/site-packages/selenium/webdriver/remote/webdriver.py\u001b[0m in \u001b[0;36mexecute\u001b[0;34m(self, driver_command, params)\u001b[0m\n\u001b[1;32m    422\u001b[0m         \u001b[0mresponse\u001b[0m \u001b[0;34m=\u001b[0m \u001b[0mself\u001b[0m\u001b[0;34m.\u001b[0m\u001b[0mcommand_executor\u001b[0m\u001b[0;34m.\u001b[0m\u001b[0mexecute\u001b[0m\u001b[0;34m(\u001b[0m\u001b[0mdriver_command\u001b[0m\u001b[0;34m,\u001b[0m \u001b[0mparams\u001b[0m\u001b[0;34m)\u001b[0m\u001b[0;34m\u001b[0m\u001b[0;34m\u001b[0m\u001b[0m\n\u001b[1;32m    423\u001b[0m         \u001b[0;32mif\u001b[0m \u001b[0mresponse\u001b[0m\u001b[0;34m:\u001b[0m\u001b[0;34m\u001b[0m\u001b[0;34m\u001b[0m\u001b[0m\n\u001b[0;32m--> 424\u001b[0;31m             \u001b[0mself\u001b[0m\u001b[0;34m.\u001b[0m\u001b[0merror_handler\u001b[0m\u001b[0;34m.\u001b[0m\u001b[0mcheck_response\u001b[0m\u001b[0;34m(\u001b[0m\u001b[0mresponse\u001b[0m\u001b[0;34m)\u001b[0m\u001b[0;34m\u001b[0m\u001b[0;34m\u001b[0m\u001b[0m\n\u001b[0m\u001b[1;32m    425\u001b[0m             response['value'] = self._unwrap_value(\n\u001b[1;32m    426\u001b[0m                 response.get('value', None))\n",
      "\u001b[0;32m~/miniconda3/envs/DeepLearning/lib/python3.8/site-packages/selenium/webdriver/remote/errorhandler.py\u001b[0m in \u001b[0;36mcheck_response\u001b[0;34m(self, response)\u001b[0m\n\u001b[1;32m    245\u001b[0m                 \u001b[0malert_text\u001b[0m \u001b[0;34m=\u001b[0m \u001b[0mvalue\u001b[0m\u001b[0;34m[\u001b[0m\u001b[0;34m'alert'\u001b[0m\u001b[0;34m]\u001b[0m\u001b[0;34m.\u001b[0m\u001b[0mget\u001b[0m\u001b[0;34m(\u001b[0m\u001b[0;34m'text'\u001b[0m\u001b[0;34m)\u001b[0m\u001b[0;34m\u001b[0m\u001b[0;34m\u001b[0m\u001b[0m\n\u001b[1;32m    246\u001b[0m             \u001b[0;32mraise\u001b[0m \u001b[0mexception_class\u001b[0m\u001b[0;34m(\u001b[0m\u001b[0mmessage\u001b[0m\u001b[0;34m,\u001b[0m \u001b[0mscreen\u001b[0m\u001b[0;34m,\u001b[0m \u001b[0mstacktrace\u001b[0m\u001b[0;34m,\u001b[0m \u001b[0malert_text\u001b[0m\u001b[0;34m)\u001b[0m  \u001b[0;31m# type: ignore[call-arg]  # mypy is not smart enough here\u001b[0m\u001b[0;34m\u001b[0m\u001b[0;34m\u001b[0m\u001b[0m\n\u001b[0;32m--> 247\u001b[0;31m         \u001b[0;32mraise\u001b[0m \u001b[0mexception_class\u001b[0m\u001b[0;34m(\u001b[0m\u001b[0mmessage\u001b[0m\u001b[0;34m,\u001b[0m \u001b[0mscreen\u001b[0m\u001b[0;34m,\u001b[0m \u001b[0mstacktrace\u001b[0m\u001b[0;34m)\u001b[0m\u001b[0;34m\u001b[0m\u001b[0;34m\u001b[0m\u001b[0m\n\u001b[0m\u001b[1;32m    248\u001b[0m \u001b[0;34m\u001b[0m\u001b[0m\n\u001b[1;32m    249\u001b[0m     \u001b[0;32mdef\u001b[0m \u001b[0m_value_or_default\u001b[0m\u001b[0;34m(\u001b[0m\u001b[0mself\u001b[0m\u001b[0;34m,\u001b[0m \u001b[0mobj\u001b[0m\u001b[0;34m:\u001b[0m \u001b[0mMapping\u001b[0m\u001b[0;34m[\u001b[0m\u001b[0m_KT\u001b[0m\u001b[0;34m,\u001b[0m \u001b[0m_VT\u001b[0m\u001b[0;34m]\u001b[0m\u001b[0;34m,\u001b[0m \u001b[0mkey\u001b[0m\u001b[0;34m:\u001b[0m \u001b[0m_KT\u001b[0m\u001b[0;34m,\u001b[0m \u001b[0mdefault\u001b[0m\u001b[0;34m:\u001b[0m \u001b[0m_VT\u001b[0m\u001b[0;34m)\u001b[0m \u001b[0;34m->\u001b[0m \u001b[0m_VT\u001b[0m\u001b[0;34m:\u001b[0m\u001b[0;34m\u001b[0m\u001b[0;34m\u001b[0m\u001b[0m\n",
      "\u001b[0;31mStaleElementReferenceException\u001b[0m: Message: stale element reference: element is not attached to the page document\n  (Session info: MicrosoftEdge=97.0.1072.69)\nStacktrace:\n#0 0x557692e7d413 <unknown>\n#1 0x5576928f6b83 <unknown>\n#2 0x5576928f9b7d <unknown>\n#3 0x5576928f9979 <unknown>\n#4 0x5576928f9c37 <unknown>\n#5 0x557692930ed7 <unknown>\n#6 0x557692925459 <unknown>\n#7 0x55769294ca02 <unknown>\n#8 0x557692924d84 <unknown>\n#9 0x55769294cc2e <unknown>\n#10 0x557692962e16 <unknown>\n#11 0x55769294c8f3 <unknown>\n#12 0x557692923704 <unknown>\n#13 0x557692924905 <unknown>\n#14 0x557692ea70f7 <unknown>\n#15 0x557692eb60df <unknown>\n#16 0x557692eb5e59 <unknown>\n#17 0x557692eb6462 <unknown>\n#18 0x557692ea815b <unknown>\n#19 0x557692eb6723 <unknown>\n#20 0x557692e9e305 <unknown>\n#21 0x557692eccca8 <unknown>\n#22 0x557692ecce58 <unknown>\n#23 0x557692ee784a <unknown>\n#24 0x7fbf318d3609 <unknown>\n"
     ]
    }
   ],
   "source": [
    "from selenium import webdriver\n",
    "\n",
    "driver = webdriver.Edge()\n",
    "driver.get(\"https://www.espn.co.uk/football/\")\n",
    "driver.find_element_by_xpath(\"//*[contains(text(), 'Continue without Accepting')]\").click()\n",
    "# try:\n",
    "#     driver.find_element_by_xpath(\"//a[@id='global-search-trigger']\").click()\n",
    "#     # driver.findElement(By.xpath(\"//*[@id='global-search-trigger']\"))    \n",
    "# except:\n",
    "#     pass\n",
    "# driver.find_element_by_xpath(\"//*[@id='global-search-trigger')]\").click()\n",
    "\n",
    "driver.find_element_by_xpath('//*[@id=\"global-search-trigger\"]').click()\n",
    "\n",
    "# search = driver.find_element_by_id('global-search-trigger')#.click()\n",
    "\n",
    "\n",
    "# driver.find_element(By.id(\"global-search-trigger\")).click()\n",
    "\n",
    "# driver.findElement(By.xpath(\"//input[@id='usernamereg-firstName']\"))\n",
    "\n",
    "# await page.locator(\"id=global-search-trigger\").click()\n",
    "# await page.locator(\"id=global-search-input\").fill(\"Lionel Messi\")"
   ]
  },
  {
   "cell_type": "code",
   "execution_count": 137,
   "metadata": {},
   "outputs": [],
   "source": [
    "driver.quit()"
   ]
  },
  {
   "cell_type": "code",
   "execution_count": null,
   "metadata": {},
   "outputs": [],
   "source": []
  }
 ],
 "metadata": {
  "interpreter": {
   "hash": "903c6381022ce11ae579cb5a90d8a6f3bd5bf0e7eda2a8c44ca8e21e5da2e68b"
  },
  "kernelspec": {
   "display_name": "Python 3.8.12 64-bit ('DeepLearning': conda)",
   "language": "python",
   "name": "python3"
  },
  "language_info": {
   "codemirror_mode": {
    "name": "ipython",
    "version": 3
   },
   "file_extension": ".py",
   "mimetype": "text/x-python",
   "name": "python",
   "nbconvert_exporter": "python",
   "pygments_lexer": "ipython3",
   "version": "3.8.12"
  },
  "orig_nbformat": 4
 },
 "nbformat": 4,
 "nbformat_minor": 2
}
